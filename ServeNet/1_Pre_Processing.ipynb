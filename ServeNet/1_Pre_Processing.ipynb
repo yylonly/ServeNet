{
  "nbformat": 4,
  "nbformat_minor": 0,
  "metadata": {
    "kernelspec": {
      "display_name": "Python 3",
      "language": "python",
      "name": "python3"
    },
    "language_info": {
      "codemirror_mode": {
        "name": "ipython",
        "version": 3
      },
      "file_extension": ".py",
      "mimetype": "text/x-python",
      "name": "python",
      "nbconvert_exporter": "python",
      "pygments_lexer": "ipython3",
      "version": "3.5.2"
    },
    "colab": {
      "name": "1.Pre-Processing.ipynb",
      "provenance": [],
      "include_colab_link": true
    }
  },
  "cells": [
    {
      "cell_type": "markdown",
      "metadata": {
        "id": "view-in-github",
        "colab_type": "text"
      },
      "source": [
        "<a href=\"https://colab.research.google.com/github/yylonly/ServeNet/blob/stacked-bert/ServeNet/1_Pre_Processing.ipynb\" target=\"_parent\"><img src=\"https://colab.research.google.com/assets/colab-badge.svg\" alt=\"Open In Colab\"/></a>"
      ]
    },
    {
      "cell_type": "code",
      "metadata": {
        "id": "fTt_YJ1e-NH4",
        "colab_type": "code",
        "outputId": "a5b660c7-0a9c-4b39-e36a-f6ad662f3c7e",
        "colab": {
          "base_uri": "https://localhost:8080/",
          "height": 34
        }
      },
      "source": [
        "from google.colab import drive\n",
        "drive.mount('/content/drive')\n",
        "\n",
        "import os\n",
        "\n",
        "if os.path.isdir(\"/content/drive/My Drive/ServeNet\"):\n",
        "  os.chdir(\"/content/drive/My Drive/ServeNet\")\n",
        "else: \n",
        "  !git clone https://github.com/yylonly/ServeNet.git\n",
        "  os.chdir(\"/content/drive/My Drive/ServeNet\")"
      ],
      "execution_count": 0,
      "outputs": [
        {
          "output_type": "stream",
          "text": [
            "Drive already mounted at /content/drive; to attempt to forcibly remount, call drive.mount(\"/content/drive\", force_remount=True).\n"
          ],
          "name": "stdout"
        }
      ]
    },
    {
      "cell_type": "code",
      "metadata": {
        "id": "VF39xScJ9YAu",
        "colab_type": "code",
        "colab": {}
      },
      "source": [
        "import json\n",
        "import numpy as np\n",
        "import h5py\n",
        "import pandas as pd\n",
        "import matplotlib.pyplot as plt\n",
        "from scipy import stats\n",
        "from pandas.io.json import json_normalize\n",
        "from pandas import HDFStore, read_hdf\n",
        "\n",
        "%matplotlib inline "
      ],
      "execution_count": 0,
      "outputs": []
    },
    {
      "cell_type": "markdown",
      "metadata": {
        "id": "lH_jwTv-9YA4",
        "colab_type": "text"
      },
      "source": [
        "## 1. Load from Text"
      ]
    },
    {
      "cell_type": "code",
      "metadata": {
        "scrolled": true,
        "id": "aQpJuCm_9YA5",
        "colab_type": "code",
        "colab": {}
      },
      "source": [
        "with open('Data/ProgrammWebScrapy.txt', encoding='utf-8') as data_file:\n",
        "    f = data_file.read()\n",
        "    data = json.loads(f, strict=False)"
      ],
      "execution_count": 0,
      "outputs": []
    },
    {
      "cell_type": "code",
      "metadata": {
        "id": "-oMM8Bmq9YBC",
        "colab_type": "code",
        "colab": {}
      },
      "source": [
        "df = pd.DataFrame.from_dict(json_normalize(data), orient='columns')"
      ],
      "execution_count": 0,
      "outputs": []
    },
    {
      "cell_type": "code",
      "metadata": {
        "scrolled": false,
        "id": "7VhL6cnI9YBF",
        "colab_type": "code",
        "outputId": "59d8c0c7-b301-421b-c135-05520a2be21a",
        "colab": {
          "base_uri": "https://localhost:8080/",
          "height": 855
        }
      },
      "source": [
        "df[1:11]"
      ],
      "execution_count": 0,
      "outputs": [
        {
          "output_type": "execute_result",
          "data": {
            "text/html": [
              "<div>\n",
              "<style scoped>\n",
              "    .dataframe tbody tr th:only-of-type {\n",
              "        vertical-align: middle;\n",
              "    }\n",
              "\n",
              "    .dataframe tbody tr th {\n",
              "        vertical-align: top;\n",
              "    }\n",
              "\n",
              "    .dataframe thead th {\n",
              "        text-align: right;\n",
              "    }\n",
              "</style>\n",
              "<table border=\"1\" class=\"dataframe\">\n",
              "  <thead>\n",
              "    <tr style=\"text-align: right;\">\n",
              "      <th></th>\n",
              "      <th>Title</th>\n",
              "      <th>Description</th>\n",
              "      <th>APIEndpoint</th>\n",
              "      <th>APIPortalHomePage</th>\n",
              "      <th>PrimaryCategory</th>\n",
              "      <th>SecondaryCategories</th>\n",
              "      <th>APIProvider</th>\n",
              "      <th>SSLSupport</th>\n",
              "      <th>APIForumMessageBoards</th>\n",
              "      <th>AuthenticationModel</th>\n",
              "      <th>IstheAPIDesign</th>\n",
              "      <th>Scope</th>\n",
              "      <th>DeviceSpecific</th>\n",
              "      <th>DocsHomePageUR</th>\n",
              "      <th>ArchitecturalStyle</th>\n",
              "      <th>SupportedRequestFormats</th>\n",
              "      <th>SupportedResponseFormats</th>\n",
              "      <th>IsThisanUnofficialAPI</th>\n",
              "      <th>RestrictedAccess</th>\n",
              "      <th>SupportEmailAddress</th>\n",
              "    </tr>\n",
              "  </thead>\n",
              "  <tbody>\n",
              "    <tr>\n",
              "      <th>1</th>\n",
              "      <td>Twitter API</td>\n",
              "      <td>It has been split into multiple APIs, includin...</td>\n",
              "      <td>http://twitter.com/statuses/</td>\n",
              "      <td>https://dev.twitter.com/rest/public</td>\n",
              "      <td>Social</td>\n",
              "      <td>Blogging</td>\n",
              "      <td>Twitter</td>\n",
              "      <td>No</td>\n",
              "      <td>http://groups.google.com/group/twitter-develop...</td>\n",
              "      <td>OAuth 2</td>\n",
              "      <td>Yes</td>\n",
              "      <td>Single purpose API</td>\n",
              "      <td>No</td>\n",
              "      <td>https://dev.twitter.com/rest/public</td>\n",
              "      <td>REST</td>\n",
              "      <td>URI Query String/CRUD</td>\n",
              "      <td>Atom, JSON, RSS, XML</td>\n",
              "      <td>No</td>\n",
              "      <td>No</td>\n",
              "      <td>api@twitter.com</td>\n",
              "    </tr>\n",
              "    <tr>\n",
              "      <th>2</th>\n",
              "      <td>YouTube API</td>\n",
              "      <td>The Data API allows users to integrate their p...</td>\n",
              "      <td>https://www.youtube.com/iframe_api</td>\n",
              "      <td>https://developers.google.com/youtube/</td>\n",
              "      <td>Video</td>\n",
              "      <td>Media</td>\n",
              "      <td>Google</td>\n",
              "      <td>No</td>\n",
              "      <td>http://groups.google.com/group/youtube-api/</td>\n",
              "      <td>API Key</td>\n",
              "      <td>No</td>\n",
              "      <td>Single purpose API</td>\n",
              "      <td>No</td>\n",
              "      <td>https://developers.google.com/youtube/</td>\n",
              "      <td>REST</td>\n",
              "      <td>Atom, GData, RSS, URI Query String/CRUD, Atom ...</td>\n",
              "      <td>XML, JSON, GData, Atom, RSS</td>\n",
              "      <td>No</td>\n",
              "      <td>No</td>\n",
              "      <td>NaN</td>\n",
              "    </tr>\n",
              "    <tr>\n",
              "      <th>3</th>\n",
              "      <td>Flickr API</td>\n",
              "      <td>The Flickr API can be used to retrieve photos ...</td>\n",
              "      <td>http://api.flickr.com/services/</td>\n",
              "      <td>http://www.flickr.com/services/api/</td>\n",
              "      <td>Photos</td>\n",
              "      <td>Video</td>\n",
              "      <td>Flickr</td>\n",
              "      <td>Yes</td>\n",
              "      <td>http://www.flickr.com/groups/api</td>\n",
              "      <td>OAuth 1</td>\n",
              "      <td>No</td>\n",
              "      <td>Single purpose API</td>\n",
              "      <td>No</td>\n",
              "      <td>http://www.flickr.com/services/api/</td>\n",
              "      <td>REST</td>\n",
              "      <td>URI Query String/CRUD, XML, PHP, XML-RPC</td>\n",
              "      <td>JSON, XML, PHP, XML-RPC</td>\n",
              "      <td>No</td>\n",
              "      <td>No</td>\n",
              "      <td>NaN</td>\n",
              "    </tr>\n",
              "    <tr>\n",
              "      <th>4</th>\n",
              "      <td>Facebook API</td>\n",
              "      <td>Its functions have been split among the follow...</td>\n",
              "      <td>http://api.facebook.com/restserver.php</td>\n",
              "      <td>https://developers.facebook.com/</td>\n",
              "      <td>Social</td>\n",
              "      <td>Webhooks</td>\n",
              "      <td>Facebook</td>\n",
              "      <td>Yes</td>\n",
              "      <td>http://forum.developers.facebook.com/</td>\n",
              "      <td>API Key, OAuth 2</td>\n",
              "      <td>No</td>\n",
              "      <td>Single purpose API</td>\n",
              "      <td>No</td>\n",
              "      <td>https://developers.facebook.com/</td>\n",
              "      <td>REST</td>\n",
              "      <td>URI Query String/CRUD</td>\n",
              "      <td>JSON</td>\n",
              "      <td>No</td>\n",
              "      <td>No</td>\n",
              "      <td>NaN</td>\n",
              "    </tr>\n",
              "    <tr>\n",
              "      <th>5</th>\n",
              "      <td>Amazon Product Advertising API</td>\n",
              "      <td>What was formerly the ECSeCommerce Servicehas ...</td>\n",
              "      <td>http://webservices.amazon.com/</td>\n",
              "      <td>https://affiliate-program.amazon.com/gp/advert...</td>\n",
              "      <td>eCommerce</td>\n",
              "      <td>Advertising</td>\n",
              "      <td>Amazon</td>\n",
              "      <td>No</td>\n",
              "      <td>http://developer.amazonwebservices.com/connect...</td>\n",
              "      <td>API Key</td>\n",
              "      <td>Yes</td>\n",
              "      <td>Single purpose API</td>\n",
              "      <td>No</td>\n",
              "      <td>https://docs.aws.amazon.com/AWSECommerceServic...</td>\n",
              "      <td>REST</td>\n",
              "      <td>SOAP, XML</td>\n",
              "      <td>SOAP, XML</td>\n",
              "      <td>No</td>\n",
              "      <td>Yes</td>\n",
              "      <td>NaN</td>\n",
              "    </tr>\n",
              "    <tr>\n",
              "      <th>6</th>\n",
              "      <td>Twilio API</td>\n",
              "      <td>Twilio provides a simple hosted API and markup...</td>\n",
              "      <td>https://api.twilio.com/2010-04-01</td>\n",
              "      <td>http://www.twilio.com</td>\n",
              "      <td>Telephony</td>\n",
              "      <td>Cloud, Text-to-Speech, Voice, Webhooks</td>\n",
              "      <td>Twilio</td>\n",
              "      <td>Yes</td>\n",
              "      <td>https://www.twilio.com/blog</td>\n",
              "      <td>API Key, HTTP Basic Auth</td>\n",
              "      <td>No</td>\n",
              "      <td>Single purpose API</td>\n",
              "      <td>No</td>\n",
              "      <td>https://www.twilio.com/docs/api/rest</td>\n",
              "      <td>REST</td>\n",
              "      <td>URI Query String/CRUD</td>\n",
              "      <td>CSV, HTML, JSON, XML</td>\n",
              "      <td>No</td>\n",
              "      <td>No</td>\n",
              "      <td>help@twilio.com</td>\n",
              "    </tr>\n",
              "    <tr>\n",
              "      <th>7</th>\n",
              "      <td>Last.fm API</td>\n",
              "      <td>The Last.fm API gives users the ability to bui...</td>\n",
              "      <td>http://ws.audioscrobbler.com/2.0/</td>\n",
              "      <td>http://www.last.fm/api</td>\n",
              "      <td>Music</td>\n",
              "      <td>NaN</td>\n",
              "      <td>Last.fm</td>\n",
              "      <td>No</td>\n",
              "      <td>http://www.last.fm/group/Last.fm+Web+Services/...</td>\n",
              "      <td>API Key, Shared Secret, Token</td>\n",
              "      <td>Yes</td>\n",
              "      <td>Single purpose API</td>\n",
              "      <td>No</td>\n",
              "      <td>http://www.last.fm/api</td>\n",
              "      <td>REST</td>\n",
              "      <td>URI Query String/CRUD</td>\n",
              "      <td>JSON, XML</td>\n",
              "      <td>No</td>\n",
              "      <td>No</td>\n",
              "      <td>office@last.fm</td>\n",
              "    </tr>\n",
              "    <tr>\n",
              "      <th>8</th>\n",
              "      <td>eBay API</td>\n",
              "      <td>eBay's primary web services are found in the t...</td>\n",
              "      <td>http://developer.ebay.com/webservices/latest/e...</td>\n",
              "      <td>https://go.developer.ebay.com/developers/ebay</td>\n",
              "      <td>Search</td>\n",
              "      <td>Auctions, eCommerce</td>\n",
              "      <td>NaN</td>\n",
              "      <td>Yes</td>\n",
              "      <td>http://developer.ebay.com/community/forums/</td>\n",
              "      <td>NaN</td>\n",
              "      <td>No</td>\n",
              "      <td>Single purpose API</td>\n",
              "      <td>No</td>\n",
              "      <td>https://go.developer.ebay.com/developers/ebay</td>\n",
              "      <td>REST</td>\n",
              "      <td>XML, SOAP, URI Query String/CRUD, name-value</td>\n",
              "      <td>XML, SOAP, JSON</td>\n",
              "      <td>No</td>\n",
              "      <td>No</td>\n",
              "      <td>NaN</td>\n",
              "    </tr>\n",
              "    <tr>\n",
              "      <th>9</th>\n",
              "      <td>Twilio SMS API</td>\n",
              "      <td>Twilio provides a simple hosted API and markup...</td>\n",
              "      <td>NaN</td>\n",
              "      <td>http://www.twilio.com/sms</td>\n",
              "      <td>Messaging</td>\n",
              "      <td>Telephony, USA</td>\n",
              "      <td>NaN</td>\n",
              "      <td>Yes</td>\n",
              "      <td>http://forum.twilio.com/twilio/?from_gsfn=true</td>\n",
              "      <td>NaN</td>\n",
              "      <td>No</td>\n",
              "      <td>Single purpose API</td>\n",
              "      <td>No</td>\n",
              "      <td>http://www.twilio.com/sms</td>\n",
              "      <td>REST</td>\n",
              "      <td>None Specified</td>\n",
              "      <td>XML</td>\n",
              "      <td>No</td>\n",
              "      <td>No</td>\n",
              "      <td>NaN</td>\n",
              "    </tr>\n",
              "    <tr>\n",
              "      <th>10</th>\n",
              "      <td>Microsoft Bing Maps API</td>\n",
              "      <td>Bing Maps API and Interactive SDK features an ...</td>\n",
              "      <td>See-&gt; http://dev.live.com/virtualearth/sdk/</td>\n",
              "      <td>http://www.microsoft.com/maps/choose-your-bing...</td>\n",
              "      <td>Mapping</td>\n",
              "      <td>Viewer</td>\n",
              "      <td>Microsoft</td>\n",
              "      <td>Yes</td>\n",
              "      <td>http://social.msdn.microsoft.com/forums/en-US/...</td>\n",
              "      <td>API Key</td>\n",
              "      <td>No</td>\n",
              "      <td>Single purpose API</td>\n",
              "      <td>No</td>\n",
              "      <td>http://www.microsoft.com/maps/choose-your-bing...</td>\n",
              "      <td>Indirect</td>\n",
              "      <td>KML, XML, GeoRSS, JavaScript</td>\n",
              "      <td>KML</td>\n",
              "      <td>No</td>\n",
              "      <td>No</td>\n",
              "      <td>NaN</td>\n",
              "    </tr>\n",
              "  </tbody>\n",
              "</table>\n",
              "</div>"
            ],
            "text/plain": [
              "                             Title  ... SupportEmailAddress\n",
              "1                      Twitter API  ...     api@twitter.com\n",
              "2                      YouTube API  ...                 NaN\n",
              "3                       Flickr API  ...                 NaN\n",
              "4                     Facebook API  ...                 NaN\n",
              "5   Amazon Product Advertising API  ...                 NaN\n",
              "6                       Twilio API  ...     help@twilio.com\n",
              "7                      Last.fm API  ...      office@last.fm\n",
              "8                         eBay API  ...                 NaN\n",
              "9                   Twilio SMS API  ...                 NaN\n",
              "10         Microsoft Bing Maps API  ...                 NaN\n",
              "\n",
              "[10 rows x 20 columns]"
            ]
          },
          "metadata": {
            "tags": []
          },
          "execution_count": 46
        }
      ]
    },
    {
      "cell_type": "code",
      "metadata": {
        "id": "SCPT1unp9YBK",
        "colab_type": "code",
        "outputId": "bdc8cfc5-5bfb-4f42-d1fd-2a1569881506",
        "colab": {
          "base_uri": "https://localhost:8080/",
          "height": 34
        }
      },
      "source": [
        "df.shape"
      ],
      "execution_count": 0,
      "outputs": [
        {
          "output_type": "execute_result",
          "data": {
            "text/plain": [
              "(15344, 20)"
            ]
          },
          "metadata": {
            "tags": []
          },
          "execution_count": 47
        }
      ]
    },
    {
      "cell_type": "code",
      "metadata": {
        "id": "hwR6LOT59YBQ",
        "colab_type": "code",
        "outputId": "2615cf2a-7ac6-43c0-c273-eb5d27c8e9f1",
        "colab": {
          "base_uri": "https://localhost:8080/",
          "height": 136
        }
      },
      "source": [
        "df.columns"
      ],
      "execution_count": 0,
      "outputs": [
        {
          "output_type": "execute_result",
          "data": {
            "text/plain": [
              "Index(['Title', 'Description', 'APIEndpoint', 'APIPortalHomePage',\n",
              "       'PrimaryCategory', 'SecondaryCategories', 'APIProvider', 'SSLSupport',\n",
              "       'APIForumMessageBoards', 'AuthenticationModel', 'IstheAPIDesign',\n",
              "       'Scope', 'DeviceSpecific', 'DocsHomePageUR', 'ArchitecturalStyle',\n",
              "       'SupportedRequestFormats', 'SupportedResponseFormats',\n",
              "       'IsThisanUnofficialAPI', 'RestrictedAccess', 'SupportEmailAddress'],\n",
              "      dtype='object')"
            ]
          },
          "metadata": {
            "tags": []
          },
          "execution_count": 48
        }
      ]
    },
    {
      "cell_type": "code",
      "metadata": {
        "id": "iyn7AM0I9YBT",
        "colab_type": "code",
        "outputId": "e07db49d-dd2e-4712-c4d0-b0dc4174e881",
        "colab": {
          "base_uri": "https://localhost:8080/",
          "height": 221
        }
      },
      "source": [
        "# equal to df.PrimaryCategory\n",
        "label = df['PrimaryCategory']\n",
        "label"
      ],
      "execution_count": 0,
      "outputs": [
        {
          "output_type": "execute_result",
          "data": {
            "text/plain": [
              "0          Mapping\n",
              "1           Social\n",
              "2            Video\n",
              "3           Photos\n",
              "4           Social\n",
              "           ...    \n",
              "15339     Security\n",
              "15340        Email\n",
              "15341        Games\n",
              "15342    Financial\n",
              "15343      Medical\n",
              "Name: PrimaryCategory, Length: 15344, dtype: object"
            ]
          },
          "metadata": {
            "tags": []
          },
          "execution_count": 49
        }
      ]
    },
    {
      "cell_type": "markdown",
      "metadata": {
        "id": "DNCvIYt79YBV",
        "colab_type": "text"
      },
      "source": [
        "## Preprocessing Null"
      ]
    },
    {
      "cell_type": "markdown",
      "metadata": {
        "id": "uLGzAahP9YBW",
        "colab_type": "text"
      },
      "source": [
        "### Some Category is Null"
      ]
    },
    {
      "cell_type": "code",
      "metadata": {
        "id": "Gj4OSeSy9YBX",
        "colab_type": "code",
        "outputId": "4a7905c6-731d-4bde-dc39-cbf3869a5069",
        "colab": {
          "base_uri": "https://localhost:8080/",
          "height": 34
        }
      },
      "source": [
        "label.isnull().sum()"
      ],
      "execution_count": 0,
      "outputs": [
        {
          "output_type": "execute_result",
          "data": {
            "text/plain": [
              "35"
            ]
          },
          "metadata": {
            "tags": []
          },
          "execution_count": 50
        }
      ]
    },
    {
      "cell_type": "code",
      "metadata": {
        "id": "LFw1SJnG9YBZ",
        "colab_type": "code",
        "outputId": "cba99682-31ef-4a71-cd41-01371de87e96",
        "colab": {
          "base_uri": "https://localhost:8080/",
          "height": 629
        }
      },
      "source": [
        "label[label.isnull()]"
      ],
      "execution_count": 0,
      "outputs": [
        {
          "output_type": "execute_result",
          "data": {
            "text/plain": [
              "93       NaN\n",
              "113      NaN\n",
              "281      NaN\n",
              "298      NaN\n",
              "587      NaN\n",
              "629      NaN\n",
              "639      NaN\n",
              "659      NaN\n",
              "982      NaN\n",
              "1307     NaN\n",
              "1359     NaN\n",
              "1371     NaN\n",
              "1387     NaN\n",
              "1920     NaN\n",
              "3140     NaN\n",
              "4066     NaN\n",
              "4666     NaN\n",
              "11668    NaN\n",
              "12240    NaN\n",
              "12465    NaN\n",
              "12750    NaN\n",
              "12813    NaN\n",
              "13378    NaN\n",
              "13423    NaN\n",
              "13544    NaN\n",
              "13819    NaN\n",
              "14100    NaN\n",
              "14637    NaN\n",
              "14659    NaN\n",
              "14682    NaN\n",
              "14687    NaN\n",
              "14852    NaN\n",
              "14876    NaN\n",
              "14887    NaN\n",
              "15267    NaN\n",
              "Name: PrimaryCategory, dtype: object"
            ]
          },
          "metadata": {
            "tags": []
          },
          "execution_count": 51
        }
      ]
    },
    {
      "cell_type": "markdown",
      "metadata": {
        "id": "rMYbe2qf9YBc",
        "colab_type": "text"
      },
      "source": [
        "### Get rid of Null Category Entry"
      ]
    },
    {
      "cell_type": "code",
      "metadata": {
        "id": "yPQ2ABv09YBd",
        "colab_type": "code",
        "colab": {}
      },
      "source": [
        "data = df.loc[label.notnull(), :]"
      ],
      "execution_count": 0,
      "outputs": []
    },
    {
      "cell_type": "markdown",
      "metadata": {
        "id": "y0NuiaPc9YBg",
        "colab_type": "text"
      },
      "source": [
        "### Get rid of Description and Category is ''"
      ]
    },
    {
      "cell_type": "code",
      "metadata": {
        "id": "TONxlTce9YBi",
        "colab_type": "code",
        "colab": {}
      },
      "source": [
        "des = data.Description\n",
        "des.isnull().sum()\n",
        "data = df[df.Description != '']"
      ],
      "execution_count": 0,
      "outputs": []
    },
    {
      "cell_type": "code",
      "metadata": {
        "id": "78NW-s0e9YBj",
        "colab_type": "code",
        "outputId": "dd256bbc-6ff4-42c0-ce2d-b321f728cebf",
        "colab": {
          "base_uri": "https://localhost:8080/",
          "height": 34
        }
      },
      "source": [
        "data = data[data.PrimaryCategory != '']\n",
        "data.shape"
      ],
      "execution_count": 0,
      "outputs": [
        {
          "output_type": "execute_result",
          "data": {
            "text/plain": [
              "(15340, 20)"
            ]
          },
          "metadata": {
            "tags": []
          },
          "execution_count": 54
        }
      ]
    },
    {
      "cell_type": "markdown",
      "metadata": {
        "id": "gvTxLDYy9YBl",
        "colab_type": "text"
      },
      "source": [
        "### Checking Second Entry"
      ]
    },
    {
      "cell_type": "code",
      "metadata": {
        "id": "5hl03OWJ9YBl",
        "colab_type": "code",
        "outputId": "6a85dd12-0140-437e-8526-b2931348b2e3",
        "colab": {
          "base_uri": "https://localhost:8080/",
          "height": 54
        }
      },
      "source": [
        "data.loc[2, 'Description']"
      ],
      "execution_count": 0,
      "outputs": [
        {
          "output_type": "execute_result",
          "data": {
            "text/plain": [
              "\"The Data API allows users to integrate their program with YouTube and allow it to perform many of the operations available on the website. It provides the capability to search for videos, retrieve standard feeds, and see related content. A program can also authenticate as a user to upload videos, modify user playlists, and more. This integration can be used for a variety of uses such as developing a web application allowing users to upload video to YouTube, or a device or desktop application that brings the YouTube experience to a new platform. The Data API gives users programmatic access to the video and user information stored on YouTube. This can be used to personalize a web site or application with the user's existing information as well as perform actions like commenting on and rating videos. This RESTful API provides responses in XML format.\""
            ]
          },
          "metadata": {
            "tags": []
          },
          "execution_count": 55
        }
      ]
    },
    {
      "cell_type": "code",
      "metadata": {
        "id": "PJ8wIJQW9YBn",
        "colab_type": "code",
        "outputId": "ae938dca-5d7d-467e-db0d-45d6f169dc0b",
        "colab": {
          "base_uri": "https://localhost:8080/",
          "height": 54
        }
      },
      "source": [
        "data.loc[2, 'PrimaryCategory']"
      ],
      "execution_count": 0,
      "outputs": [
        {
          "output_type": "execute_result",
          "data": {
            "text/plain": [
              "'Video'"
            ]
          },
          "metadata": {
            "tags": []
          },
          "execution_count": 56
        }
      ]
    },
    {
      "cell_type": "code",
      "metadata": {
        "id": "xX0i1Li-9YBp",
        "colab_type": "code",
        "outputId": "592584d6-b043-4273-dd18-0a6f1a28eccf",
        "colab": {
          "base_uri": "https://localhost:8080/",
          "height": 54
        }
      },
      "source": [
        "data.loc[2, 'APIProvider']"
      ],
      "execution_count": 0,
      "outputs": [
        {
          "output_type": "execute_result",
          "data": {
            "text/plain": [
              "'Google'"
            ]
          },
          "metadata": {
            "tags": []
          },
          "execution_count": 57
        }
      ]
    },
    {
      "cell_type": "code",
      "metadata": {
        "scrolled": true,
        "id": "yNpQemSU9YBs",
        "colab_type": "code",
        "outputId": "c7c8571e-6a18-4089-d12d-caf3d3d5c9f7",
        "colab": {
          "base_uri": "https://localhost:8080/",
          "height": 139
        }
      },
      "source": [
        "data.loc[:, 'PrimaryCategory'].head()"
      ],
      "execution_count": 0,
      "outputs": [
        {
          "output_type": "execute_result",
          "data": {
            "text/plain": [
              "0    Mapping\n",
              "1     Social\n",
              "2      Video\n",
              "3     Photos\n",
              "4     Social\n",
              "Name: PrimaryCategory, dtype: object"
            ]
          },
          "metadata": {
            "tags": []
          },
          "execution_count": 58
        }
      ]
    },
    {
      "cell_type": "markdown",
      "metadata": {
        "id": "zfQOOe8w9YBu",
        "colab_type": "text"
      },
      "source": [
        "### How many primary category in the data?"
      ]
    },
    {
      "cell_type": "code",
      "metadata": {
        "id": "77NF4RWj9YBu",
        "colab_type": "code",
        "outputId": "ab1b0207-51fe-4a44-c92c-347fe216012a",
        "colab": {
          "base_uri": "https://localhost:8080/",
          "height": 54
        }
      },
      "source": [
        "len(set(data.loc[:, 'PrimaryCategory']))"
      ],
      "execution_count": 0,
      "outputs": [
        {
          "output_type": "execute_result",
          "data": {
            "text/plain": [
              "402"
            ]
          },
          "metadata": {
            "tags": []
          },
          "execution_count": 59
        }
      ]
    },
    {
      "cell_type": "markdown",
      "metadata": {
        "id": "q8gqSOzl9YBv",
        "colab_type": "text"
      },
      "source": [
        "### Final Data, Input = Description, Output = PrimaryCategroy"
      ]
    },
    {
      "cell_type": "code",
      "metadata": {
        "id": "5GXbCOrs9YBw",
        "colab_type": "code",
        "colab": {}
      },
      "source": [
        "finaldata = pd.DataFrame(data, columns=['Description', 'PrimaryCategory'])"
      ],
      "execution_count": 0,
      "outputs": []
    },
    {
      "cell_type": "code",
      "metadata": {
        "id": "KTQLTQuX9YBx",
        "colab_type": "code",
        "colab": {}
      },
      "source": [
        "finaldata.columns = ['Service Desciption', 'Service Classification']"
      ],
      "execution_count": 0,
      "outputs": []
    },
    {
      "cell_type": "code",
      "metadata": {
        "id": "gQ5buwwg9YBz",
        "colab_type": "code",
        "outputId": "d296366c-ebdc-4b33-99d5-84815387d93a",
        "colab": {
          "base_uri": "https://localhost:8080/",
          "height": 54
        }
      },
      "source": [
        "finaldata.shape"
      ],
      "execution_count": 0,
      "outputs": [
        {
          "output_type": "execute_result",
          "data": {
            "text/plain": [
              "(15340, 2)"
            ]
          },
          "metadata": {
            "tags": []
          },
          "execution_count": 62
        }
      ]
    },
    {
      "cell_type": "markdown",
      "metadata": {
        "id": "9GV2jIVm9YB0",
        "colab_type": "text"
      },
      "source": [
        "## Preview"
      ]
    },
    {
      "cell_type": "code",
      "metadata": {
        "id": "lg-oKJ349YB1",
        "colab_type": "code",
        "outputId": "313ee04e-8c00-4859-9934-35df4ebc9464",
        "colab": {
          "base_uri": "https://localhost:8080/",
          "height": 777
        }
      },
      "source": [
        "top10 = finaldata.head(5)\n",
        "#top10.style.set_properties(subset=['Service Classification'], **{'width': '400px', 'text-align': 'left'})\n",
        "#top10.style.set_properties(subset=['Service Desciption'], **{'width': '600px', 'text-align': 'left', \"font-size\": \"100%\"})\n",
        "\n",
        "\n",
        "styles = [\n",
        "    dict(selector=\"th\", props=[(\"font-size\", \"180%\"), (\"text-align\", \"left\")]),\n",
        "    dict(selector=\"td\", props=[(\"font-size\", \"120%\"), (\"text-align\", \"left\")]),\n",
        "    dict(selector=\"caption\", props=[(\"caption-side\", \"bottom\"), ('width', '600px')]),\n",
        "]\n",
        "top10.style.set_table_styles(styles)\n",
        "\n",
        "#top10.style.set_properties(subset=['Service Classification'], **{'width': '150px', 'text-align': 'left'})\n",
        "\n",
        "\n",
        "# html"
      ],
      "execution_count": 0,
      "outputs": [
        {
          "output_type": "execute_result",
          "data": {
            "text/html": [
              "<style  type=\"text/css\" >\n",
              "    #T_91f7ceba_1424_11ea_aee1_0242ac1c0002 th {\n",
              "          font-size: 180%;\n",
              "          text-align: left;\n",
              "    }    #T_91f7ceba_1424_11ea_aee1_0242ac1c0002 td {\n",
              "          font-size: 120%;\n",
              "          text-align: left;\n",
              "    }    #T_91f7ceba_1424_11ea_aee1_0242ac1c0002 caption {\n",
              "          caption-side: bottom;\n",
              "          width: 600px;\n",
              "    }</style><table id=\"T_91f7ceba_1424_11ea_aee1_0242ac1c0002\" ><thead>    <tr>        <th class=\"blank level0\" ></th>        <th class=\"col_heading level0 col0\" >Service Desciption</th>        <th class=\"col_heading level0 col1\" >Service Classification</th>    </tr></thead><tbody>\n",
              "                <tr>\n",
              "                        <th id=\"T_91f7ceba_1424_11ea_aee1_0242ac1c0002level0_row0\" class=\"row_heading level0 row0\" >0</th>\n",
              "                        <td id=\"T_91f7ceba_1424_11ea_aee1_0242ac1c0002row0_col0\" class=\"data row0 col0\" >Google Maps' services have been split into multiple APIs, including the Static Maps API, Street View Image API, Directions APIs, Distance Matrix API, Elevation API, Geocoding API, Geolocation API, Places API, Roads API, and Time Zone API. This page is maintained purely for historical and research purposes.] The Google Maps API allow for the embedding of Google Maps onto web pages of outside developers, using a simple JavaScript interface or a Flash interface. It is designed to work on both mobile devices as well as traditional desktop browser applications. The API includes language localization for over 50 languages, region localization and geocoding, and has mechanisms for enterprise developers who want to utilize the Google Maps API within an intranet. The API HTTP services can be accessed over a secure (HTTPS) connection by Google Maps API Premier customers.</td>\n",
              "                        <td id=\"T_91f7ceba_1424_11ea_aee1_0242ac1c0002row0_col1\" class=\"data row0 col1\" >Mapping</td>\n",
              "            </tr>\n",
              "            <tr>\n",
              "                        <th id=\"T_91f7ceba_1424_11ea_aee1_0242ac1c0002level0_row1\" class=\"row_heading level0 row1\" >1</th>\n",
              "                        <td id=\"T_91f7ceba_1424_11ea_aee1_0242ac1c0002row1_col0\" class=\"data row1 col0\" >It has been split into multiple APIs, including the Twitter Ads API, Twitter Search Tweets API, and Twitter Direct Message API. This profile is maintained for historical, research, and reference purposes only.The Twitter micro-blogging service includes two RESTful APIs. The Twitter REST API methods allow developers to access core Twitter data. This includes update timelines, status data, and user information. The Search API methods give developers methods to interact with Twitter Search and trends data. The API presently supports the following data formats: XML, JSON, and the RSS and Atom syndication formats, with some methods only accepting a subset of these formats.</td>\n",
              "                        <td id=\"T_91f7ceba_1424_11ea_aee1_0242ac1c0002row1_col1\" class=\"data row1 col1\" >Social</td>\n",
              "            </tr>\n",
              "            <tr>\n",
              "                        <th id=\"T_91f7ceba_1424_11ea_aee1_0242ac1c0002level0_row2\" class=\"row_heading level0 row2\" >2</th>\n",
              "                        <td id=\"T_91f7ceba_1424_11ea_aee1_0242ac1c0002row2_col0\" class=\"data row2 col0\" >The Data API allows users to integrate their program with YouTube and allow it to perform many of the operations available on the website. It provides the capability to search for videos, retrieve standard feeds, and see related content. A program can also authenticate as a user to upload videos, modify user playlists, and more. This integration can be used for a variety of uses such as developing a web application allowing users to upload video to YouTube, or a device or desktop application that brings the YouTube experience to a new platform. The Data API gives users programmatic access to the video and user information stored on YouTube. This can be used to personalize a web site or application with the user's existing information as well as perform actions like commenting on and rating videos. This RESTful API provides responses in XML format.</td>\n",
              "                        <td id=\"T_91f7ceba_1424_11ea_aee1_0242ac1c0002row2_col1\" class=\"data row2 col1\" >Video</td>\n",
              "            </tr>\n",
              "            <tr>\n",
              "                        <th id=\"T_91f7ceba_1424_11ea_aee1_0242ac1c0002level0_row3\" class=\"row_heading level0 row3\" >3</th>\n",
              "                        <td id=\"T_91f7ceba_1424_11ea_aee1_0242ac1c0002row3_col0\" class=\"data row3 col0\" >The Flickr API can be used to retrieve photos from the Flickr photo sharing service using a variety of feedspublic photos and videos, favorites, friends, group pools, discussions, and more. The API can also be used to upload photos and video.The Flickr API supports many protocols including REST, SOAP, XML-RPC. Responses can be formatted in XML, XML-RPC, JSON and PHP. Documentation is included for 14 API Kit libraries.</td>\n",
              "                        <td id=\"T_91f7ceba_1424_11ea_aee1_0242ac1c0002row3_col1\" class=\"data row3 col1\" >Photos</td>\n",
              "            </tr>\n",
              "            <tr>\n",
              "                        <th id=\"T_91f7ceba_1424_11ea_aee1_0242ac1c0002level0_row4\" class=\"row_heading level0 row4\" >4</th>\n",
              "                        <td id=\"T_91f7ceba_1424_11ea_aee1_0242ac1c0002row4_col0\" class=\"data row4 col0\" >Its functions have been split among the following APIs: Facebook Ads, Facebook Atlas, Facebook Graph, and Facebook Marketing. This profile is being maintained purely for historical and research purposes.] The Facebook API is a platform for building applications that are available to the members of the social network of Facebook. The API allows applications to use the social connections and profile information to make applications more involving, and to publish activities to the news feed and profile pages of Facebook, subject to individual users privacy settings. With the API, users can add social context to their applications by utilizing profile, friend, Page, group, photo, and event data. The API uses RESTful protocol and responses are in JSON format.</td>\n",
              "                        <td id=\"T_91f7ceba_1424_11ea_aee1_0242ac1c0002row4_col1\" class=\"data row4 col1\" >Social</td>\n",
              "            </tr>\n",
              "    </tbody></table>"
            ],
            "text/plain": [
              "<pandas.io.formats.style.Styler at 0x7fc2e63f9e48>"
            ]
          },
          "metadata": {
            "tags": []
          },
          "execution_count": 63
        }
      ]
    },
    {
      "cell_type": "markdown",
      "metadata": {
        "id": "uGdaHwd59YB2",
        "colab_type": "text"
      },
      "source": [
        "## 2. Categories Anaylsis"
      ]
    },
    {
      "cell_type": "markdown",
      "metadata": {
        "id": "asbB1fQu9YB3",
        "colab_type": "text"
      },
      "source": [
        "### Count Number of Categories"
      ]
    },
    {
      "cell_type": "code",
      "metadata": {
        "scrolled": true,
        "id": "EffBsdBg9YB3",
        "colab_type": "code",
        "outputId": "b0f6237c-3a6c-4339-a739-72b440082c98",
        "colab": {
          "base_uri": "https://localhost:8080/",
          "height": 241
        }
      },
      "source": [
        "labelcount = finaldata['Service Classification'].value_counts()\n",
        "labelcount"
      ],
      "execution_count": 0,
      "outputs": [
        {
          "output_type": "execute_result",
          "data": {
            "text/plain": [
              "Tools        767\n",
              "Financial    687\n",
              "Messaging    511\n",
              "eCommerce    466\n",
              "Payments     460\n",
              "            ... \n",
              "Housing        1\n",
              "History        1\n",
              "Trivia         1\n",
              "Civics         1\n",
              "Canadian       1\n",
              "Name: Service Classification, Length: 401, dtype: int64"
            ]
          },
          "metadata": {
            "tags": []
          },
          "execution_count": 64
        }
      ]
    },
    {
      "cell_type": "markdown",
      "metadata": {
        "id": "AooW5ayo9YB5",
        "colab_type": "text"
      },
      "source": [
        "### Category Number > 100"
      ]
    },
    {
      "cell_type": "code",
      "metadata": {
        "id": "1IjIFVOW9YB5",
        "colab_type": "code",
        "outputId": "fbca9b8e-b02c-4a62-93f0-0fadb0e8dbfc",
        "colab": {
          "base_uri": "https://localhost:8080/",
          "height": 54
        }
      },
      "source": [
        "labelcount[labelcount > 100].count()"
      ],
      "execution_count": 0,
      "outputs": [
        {
          "output_type": "execute_result",
          "data": {
            "text/plain": [
              "41"
            ]
          },
          "metadata": {
            "tags": []
          },
          "execution_count": 65
        }
      ]
    },
    {
      "cell_type": "markdown",
      "metadata": {
        "id": "csD2ibWV9YB6",
        "colab_type": "text"
      },
      "source": [
        "### Category Number > 200"
      ]
    },
    {
      "cell_type": "code",
      "metadata": {
        "id": "wOgWlfP79YB7",
        "colab_type": "code",
        "outputId": "d6aeba8b-6d03-4625-8da2-4b20ad02dff9",
        "colab": {
          "base_uri": "https://localhost:8080/",
          "height": 54
        }
      },
      "source": [
        "labelcount[labelcount > 200].count()"
      ],
      "execution_count": 0,
      "outputs": [
        {
          "output_type": "execute_result",
          "data": {
            "text/plain": [
              "22"
            ]
          },
          "metadata": {
            "tags": []
          },
          "execution_count": 66
        }
      ]
    },
    {
      "cell_type": "code",
      "metadata": {
        "id": "Qh7Or_hv9YB8",
        "colab_type": "code",
        "outputId": "d6211fb4-5cf0-4f21-c089-d74d6184b938",
        "colab": {
          "base_uri": "https://localhost:8080/",
          "height": 224
        }
      },
      "source": [
        "labelcount[0:10]"
      ],
      "execution_count": 0,
      "outputs": [
        {
          "output_type": "execute_result",
          "data": {
            "text/plain": [
              "Tools         767\n",
              "Financial     687\n",
              "Messaging     511\n",
              "eCommerce     466\n",
              "Payments      460\n",
              "Social        433\n",
              "Enterprise    412\n",
              "Mapping       362\n",
              "Government    304\n",
              "Telephony     300\n",
              "Name: Service Classification, dtype: int64"
            ]
          },
          "metadata": {
            "tags": []
          },
          "execution_count": 67
        }
      ]
    },
    {
      "cell_type": "code",
      "metadata": {
        "id": "1pgdZJB79YB9",
        "colab_type": "code",
        "outputId": "412621cd-baba-4a16-9064-39ffbb96a82a",
        "colab": {
          "base_uri": "https://localhost:8080/",
          "height": 394
        }
      },
      "source": [
        "labelcount[0:20]"
      ],
      "execution_count": 0,
      "outputs": [
        {
          "output_type": "execute_result",
          "data": {
            "text/plain": [
              "Tools             767\n",
              "Financial         687\n",
              "Messaging         511\n",
              "eCommerce         466\n",
              "Payments          460\n",
              "Social            433\n",
              "Enterprise        412\n",
              "Mapping           362\n",
              "Government        304\n",
              "Telephony         300\n",
              "Science           298\n",
              "Email             255\n",
              "Reference         251\n",
              "Video             251\n",
              "Search            251\n",
              "Security          251\n",
              "Travel            243\n",
              "Sports            228\n",
              "Advertising       224\n",
              "Transportation    218\n",
              "Name: Service Classification, dtype: int64"
            ]
          },
          "metadata": {
            "tags": []
          },
          "execution_count": 68
        }
      ]
    },
    {
      "cell_type": "code",
      "metadata": {
        "id": "wrhfC7ET9YB_",
        "colab_type": "code",
        "outputId": "fcc858f1-3e88-42ea-fb37-82dc8b2fb45e",
        "colab": {
          "base_uri": "https://localhost:8080/",
          "height": 564
        }
      },
      "source": [
        "labelcount[0:30]"
      ],
      "execution_count": 0,
      "outputs": [
        {
          "output_type": "execute_result",
          "data": {
            "text/plain": [
              "Tools                 767\n",
              "Financial             687\n",
              "Messaging             511\n",
              "eCommerce             466\n",
              "Payments              460\n",
              "Social                433\n",
              "Enterprise            412\n",
              "Mapping               362\n",
              "Government            304\n",
              "Telephony             300\n",
              "Science               298\n",
              "Email                 255\n",
              "Reference             251\n",
              "Video                 251\n",
              "Search                251\n",
              "Security              251\n",
              "Travel                243\n",
              "Sports                228\n",
              "Advertising           224\n",
              "Transportation        218\n",
              "Education             215\n",
              "Games                 203\n",
              "Music                 191\n",
              "Photos                185\n",
              "Cloud                 173\n",
              "Other                 158\n",
              "Bitcoin               143\n",
              "Project Management    142\n",
              "Data                  142\n",
              "Database              136\n",
              "Name: Service Classification, dtype: int64"
            ]
          },
          "metadata": {
            "tags": []
          },
          "execution_count": 69
        }
      ]
    },
    {
      "cell_type": "code",
      "metadata": {
        "id": "YU59FCNM9YCB",
        "colab_type": "code",
        "outputId": "ed5b6f46-7d84-4803-9d1f-de09e3b10432",
        "colab": {
          "base_uri": "https://localhost:8080/",
          "height": 734
        }
      },
      "source": [
        "labelcount[0:40]"
      ],
      "execution_count": 0,
      "outputs": [
        {
          "output_type": "execute_result",
          "data": {
            "text/plain": [
              "Tools                      767\n",
              "Financial                  687\n",
              "Messaging                  511\n",
              "eCommerce                  466\n",
              "Payments                   460\n",
              "Social                     433\n",
              "Enterprise                 412\n",
              "Mapping                    362\n",
              "Government                 304\n",
              "Telephony                  300\n",
              "Science                    298\n",
              "Email                      255\n",
              "Reference                  251\n",
              "Video                      251\n",
              "Search                     251\n",
              "Security                   251\n",
              "Travel                     243\n",
              "Sports                     228\n",
              "Advertising                224\n",
              "Transportation             218\n",
              "Education                  215\n",
              "Games                      203\n",
              "Music                      191\n",
              "Photos                     185\n",
              "Cloud                      173\n",
              "Other                      158\n",
              "Bitcoin                    143\n",
              "Project Management         142\n",
              "Data                       142\n",
              "Database                   136\n",
              "Shipping                   136\n",
              "Backend                    134\n",
              "Stocks                     133\n",
              "Weather                    132\n",
              "Application Development    123\n",
              "Analytics                  115\n",
              "Internet of Things         113\n",
              "Banking                    111\n",
              "Medical                    110\n",
              "Events                     108\n",
              "Name: Service Classification, dtype: int64"
            ]
          },
          "metadata": {
            "tags": []
          },
          "execution_count": 70
        }
      ]
    },
    {
      "cell_type": "code",
      "metadata": {
        "id": "v4PpP__q9YCC",
        "colab_type": "code",
        "outputId": "0a293d13-d6d1-4868-faf1-2ffadfbca064",
        "colab": {
          "base_uri": "https://localhost:8080/",
          "height": 904
        }
      },
      "source": [
        "labelcount[0:50]"
      ],
      "execution_count": 0,
      "outputs": [
        {
          "output_type": "execute_result",
          "data": {
            "text/plain": [
              "Tools                      767\n",
              "Financial                  687\n",
              "Messaging                  511\n",
              "eCommerce                  466\n",
              "Payments                   460\n",
              "Social                     433\n",
              "Enterprise                 412\n",
              "Mapping                    362\n",
              "Government                 304\n",
              "Telephony                  300\n",
              "Science                    298\n",
              "Email                      255\n",
              "Reference                  251\n",
              "Video                      251\n",
              "Search                     251\n",
              "Security                   251\n",
              "Travel                     243\n",
              "Sports                     228\n",
              "Advertising                224\n",
              "Transportation             218\n",
              "Education                  215\n",
              "Games                      203\n",
              "Music                      191\n",
              "Photos                     185\n",
              "Cloud                      173\n",
              "Other                      158\n",
              "Bitcoin                    143\n",
              "Project Management         142\n",
              "Data                       142\n",
              "Database                   136\n",
              "Shipping                   136\n",
              "Backend                    134\n",
              "Stocks                     133\n",
              "Weather                    132\n",
              "Application Development    123\n",
              "Analytics                  115\n",
              "Internet of Things         113\n",
              "Banking                    111\n",
              "Medical                    110\n",
              "Events                     108\n",
              "Real Estate                108\n",
              "Storage                     99\n",
              "Entertainment               95\n",
              "File Sharing                86\n",
              "Domains                     84\n",
              "Images                      83\n",
              "News Services               82\n",
              "Media                       82\n",
              "Chat                        82\n",
              "Office                      81\n",
              "Name: Service Classification, dtype: int64"
            ]
          },
          "metadata": {
            "tags": []
          },
          "execution_count": 71
        }
      ]
    },
    {
      "cell_type": "code",
      "metadata": {
        "scrolled": true,
        "id": "rmZrMR6Q9YCD",
        "colab_type": "code",
        "outputId": "ea77e950-1cb6-4737-9d3d-ed438d7761d0",
        "colab": {
          "base_uri": "https://localhost:8080/",
          "height": 241
        }
      },
      "source": [
        "labelcount[0:100]"
      ],
      "execution_count": 0,
      "outputs": [
        {
          "output_type": "execute_result",
          "data": {
            "text/plain": [
              "Tools            767\n",
              "Financial        687\n",
              "Messaging        511\n",
              "eCommerce        466\n",
              "Payments         460\n",
              "                ... \n",
              "Conversions       30\n",
              "Notifications     29\n",
              "Browsers          29\n",
              "Sales             29\n",
              "Credit Cards      28\n",
              "Name: Service Classification, Length: 100, dtype: int64"
            ]
          },
          "metadata": {
            "tags": []
          },
          "execution_count": 72
        }
      ]
    },
    {
      "cell_type": "markdown",
      "metadata": {
        "id": "CPBXJM3M9YCE",
        "colab_type": "text"
      },
      "source": [
        "### Half of categories less than 10"
      ]
    },
    {
      "cell_type": "code",
      "metadata": {
        "id": "ghPch77Q9YCE",
        "colab_type": "code",
        "outputId": "f8eb65ae-00ca-4bbc-8ca8-723e5e441d3a",
        "colab": {
          "base_uri": "https://localhost:8080/",
          "height": 54
        }
      },
      "source": [
        "labelcount[labelcount < 10].count()"
      ],
      "execution_count": 0,
      "outputs": [
        {
          "output_type": "execute_result",
          "data": {
            "text/plain": [
              "217"
            ]
          },
          "metadata": {
            "tags": []
          },
          "execution_count": 73
        }
      ]
    },
    {
      "cell_type": "code",
      "metadata": {
        "id": "Oq8g9XZE9YCF",
        "colab_type": "code",
        "outputId": "5872625c-0893-45c7-cd6d-0d78461e5e5f",
        "colab": {
          "base_uri": "https://localhost:8080/",
          "height": 54
        }
      },
      "source": [
        "labelcount[labelcount > 100].count()"
      ],
      "execution_count": 0,
      "outputs": [
        {
          "output_type": "execute_result",
          "data": {
            "text/plain": [
              "41"
            ]
          },
          "metadata": {
            "tags": []
          },
          "execution_count": 74
        }
      ]
    },
    {
      "cell_type": "code",
      "metadata": {
        "id": "TdFAT52x9YCG",
        "colab_type": "code",
        "outputId": "b6eb1855-958e-4297-e877-698ac9d6e61d",
        "colab": {
          "base_uri": "https://localhost:8080/",
          "height": 54
        }
      },
      "source": [
        "labelcount[labelcount == 1].count()"
      ],
      "execution_count": 0,
      "outputs": [
        {
          "output_type": "execute_result",
          "data": {
            "text/plain": [
              "41"
            ]
          },
          "metadata": {
            "tags": []
          },
          "execution_count": 75
        }
      ]
    },
    {
      "cell_type": "code",
      "metadata": {
        "id": "4PhTxRgx9YCH",
        "colab_type": "code",
        "outputId": "c8d35734-879f-4745-b0ee-c1006f85544b",
        "colab": {
          "base_uri": "https://localhost:8080/",
          "height": 751
        }
      },
      "source": [
        "labelcount[401-41:401]"
      ],
      "execution_count": 0,
      "outputs": [
        {
          "output_type": "execute_result",
          "data": {
            "text/plain": [
              "API Education          1\n",
              "Gestures               1\n",
              "Announcements          1\n",
              "Recreation             1\n",
              "European               1\n",
              "German                 1\n",
              "Discounts              1\n",
              "Subtitles              1\n",
              "Developer Relations    1\n",
              "OAuth                  1\n",
              "Drawing                1\n",
              "Tourism                1\n",
              "Panorama               1\n",
              "Flowers                1\n",
              "IDE                    1\n",
              "Availability           1\n",
              "Gadgets                1\n",
              "Virtualization         1\n",
              "Notes                  1\n",
              "Polls                  1\n",
              "Modules                1\n",
              "Datacenter             1\n",
              "Summary                1\n",
              "Newsletters            1\n",
              "Sustainability         1\n",
              "Viewer                 1\n",
              "REST                   1\n",
              "Copyright              1\n",
              "Adoption               1\n",
              "Postcodes              1\n",
              "Australian             1\n",
              "Accessibility          1\n",
              "iPaaS                  1\n",
              "African                1\n",
              "Contracts              1\n",
              "Economics              1\n",
              "Housing                1\n",
              "History                1\n",
              "Trivia                 1\n",
              "Civics                 1\n",
              "Canadian               1\n",
              "Name: Service Classification, dtype: int64"
            ]
          },
          "metadata": {
            "tags": []
          },
          "execution_count": 76
        }
      ]
    },
    {
      "cell_type": "code",
      "metadata": {
        "id": "Di6GuLEx9YCJ",
        "colab_type": "code",
        "outputId": "84d00a3b-c503-466a-84a4-a872da58a540",
        "colab": {
          "base_uri": "https://localhost:8080/",
          "height": 54
        }
      },
      "source": [
        "maxcount = labelcount[0]\n",
        "np.mean(abs(maxcount - labelcount))"
      ],
      "execution_count": 0,
      "outputs": [
        {
          "output_type": "execute_result",
          "data": {
            "text/plain": [
              "728.8329177057357"
            ]
          },
          "metadata": {
            "tags": []
          },
          "execution_count": 77
        }
      ]
    },
    {
      "cell_type": "markdown",
      "metadata": {
        "id": "lHa98Ea79YCK",
        "colab_type": "text"
      },
      "source": [
        "### Histogram"
      ]
    },
    {
      "cell_type": "code",
      "metadata": {
        "id": "Y3dRmOBk9YCK",
        "colab_type": "code",
        "outputId": "c1a1a93e-954d-409b-dc75-ae9e848180e6",
        "colab": {
          "base_uri": "https://localhost:8080/",
          "height": 784
        }
      },
      "source": [
        "plt.figure(figsize=(70, 10))\n",
        "labelcount.plot(kind='bar')\n",
        "plt.savefig('Data/HistogramAllCatagories.pdf', format='pdf', dpi=300)"
      ],
      "execution_count": 0,
      "outputs": [
        {
          "output_type": "display_data",
          "data": {
            "image/png": "[encoded data removed]",
            "text/plain": [
              "<Figure size 5040x720 with 1 Axes>"
            ]
          },
          "metadata": {
            "tags": []
          }
        }
      ]
    },
    {
      "cell_type": "markdown",
      "metadata": {
        "id": "KuBZduUH9YCL",
        "colab_type": "text"
      },
      "source": [
        "### Get TOP 50 categories dataset"
      ]
    },
    {
      "cell_type": "code",
      "metadata": {
        "id": "Q1Eiud4K9YCL",
        "colab_type": "code",
        "colab": {}
      },
      "source": [
        "top50 = labelcount[0:50]"
      ],
      "execution_count": 0,
      "outputs": []
    },
    {
      "cell_type": "code",
      "metadata": {
        "id": "gFIbUWo_9YCN",
        "colab_type": "code",
        "colab": {}
      },
      "source": [
        "top50list = list(top50.index)\n",
        "top50index = finaldata['Service Classification'].isin(top50list)"
      ],
      "execution_count": 0,
      "outputs": []
    },
    {
      "cell_type": "code",
      "metadata": {
        "id": "PwpCgefn9YCO",
        "colab_type": "code",
        "outputId": "510deabb-1434-4e13-9aae-2246ebc6dacc",
        "colab": {
          "base_uri": "https://localhost:8080/",
          "height": 34
        }
      },
      "source": [
        "top50data = finaldata.loc[top50index]\n",
        "top50data.shape"
      ],
      "execution_count": 0,
      "outputs": [
        {
          "output_type": "execute_result",
          "data": {
            "text/plain": [
              "(10957, 2)"
            ]
          },
          "metadata": {
            "tags": []
          },
          "execution_count": 81
        }
      ]
    },
    {
      "cell_type": "code",
      "metadata": {
        "scrolled": true,
        "id": "hqDIDfNu9YCP",
        "colab_type": "code",
        "colab": {}
      },
      "source": [
        "top50labelcount = top50data['Service Classification'].value_counts()"
      ],
      "execution_count": 0,
      "outputs": []
    },
    {
      "cell_type": "code",
      "metadata": {
        "id": "YfT4ETuT9YCQ",
        "colab_type": "code",
        "outputId": "74077a7d-c3dd-486b-fc86-61c8fdb958de",
        "colab": {
          "base_uri": "https://localhost:8080/",
          "height": 34
        }
      },
      "source": [
        "maxcount = top50labelcount[0]\n",
        "np.mean(abs(maxcount - top50labelcount))"
      ],
      "execution_count": 0,
      "outputs": [
        {
          "output_type": "execute_result",
          "data": {
            "text/plain": [
              "547.86"
            ]
          },
          "metadata": {
            "tags": []
          },
          "execution_count": 83
        }
      ]
    },
    {
      "cell_type": "code",
      "metadata": {
        "id": "iq4hmwFkKc61",
        "colab_type": "code",
        "colab": {}
      },
      "source": [
        "colors = \"bgrcmykw\"\n",
        "color_index = 0"
      ],
      "execution_count": 0,
      "outputs": []
    },
    {
      "cell_type": "code",
      "metadata": {
        "id": "qAuAmWAP9YCR",
        "colab_type": "code",
        "outputId": "02f4c1ce-c081-4e30-fbd1-03d40ce16755",
        "colab": {
          "base_uri": "https://localhost:8080/",
          "height": 1000
        }
      },
      "source": [
        "plt.figure(figsize=(25, 25))\n",
        "plt.rcParams['axes.labelweight'] = 'bold'\n",
        "top50labelcount.plot(kind='bar', fontsize=20, facecolor='crimson')\n",
        "plt.savefig('Data/HistogramTop50.pdf', format='pdf', dpi=300)"
      ],
      "execution_count": 0,
      "outputs": [
        {
          "output_type": "display_data",
          "data": {
            "image/png": "[encoded data removed]",
            "text/plain": [
              "<Figure size 1800x1800 with 1 Axes>"
            ]
          },
          "metadata": {
            "tags": []
          }
        }
      ]
    },
    {
      "cell_type": "code",
      "metadata": {
        "id": "6fsEazXZ9YCV",
        "colab_type": "code",
        "outputId": "5befe8ad-2cf6-40f8-e7f5-fd2f4cf634bd",
        "colab": {
          "base_uri": "https://localhost:8080/",
          "height": 884
        }
      },
      "source": [
        "top50labelcount"
      ],
      "execution_count": 0,
      "outputs": [
        {
          "output_type": "execute_result",
          "data": {
            "text/plain": [
              "Tools                      767\n",
              "Financial                  687\n",
              "Messaging                  511\n",
              "eCommerce                  466\n",
              "Payments                   460\n",
              "Social                     433\n",
              "Enterprise                 412\n",
              "Mapping                    362\n",
              "Government                 304\n",
              "Telephony                  300\n",
              "Science                    298\n",
              "Email                      255\n",
              "Reference                  251\n",
              "Video                      251\n",
              "Search                     251\n",
              "Security                   251\n",
              "Travel                     243\n",
              "Sports                     228\n",
              "Advertising                224\n",
              "Transportation             218\n",
              "Education                  215\n",
              "Games                      203\n",
              "Music                      191\n",
              "Photos                     185\n",
              "Cloud                      173\n",
              "Other                      158\n",
              "Bitcoin                    143\n",
              "Project Management         142\n",
              "Data                       142\n",
              "Database                   136\n",
              "Shipping                   136\n",
              "Backend                    134\n",
              "Stocks                     133\n",
              "Weather                    132\n",
              "Application Development    123\n",
              "Analytics                  115\n",
              "Internet of Things         113\n",
              "Banking                    111\n",
              "Medical                    110\n",
              "Events                     108\n",
              "Real Estate                108\n",
              "Storage                     99\n",
              "Entertainment               95\n",
              "File Sharing                86\n",
              "Domains                     84\n",
              "Images                      83\n",
              "Media                       82\n",
              "Chat                        82\n",
              "News Services               82\n",
              "Office                      81\n",
              "Name: Service Classification, dtype: int64"
            ]
          },
          "metadata": {
            "tags": []
          },
          "execution_count": 85
        }
      ]
    },
    {
      "cell_type": "markdown",
      "metadata": {
        "id": "jDKd68sE9YCW",
        "colab_type": "text"
      },
      "source": [
        "## 3. Service Description to Vector"
      ]
    },
    {
      "cell_type": "code",
      "metadata": {
        "id": "WXhS0GkI9YCX",
        "colab_type": "code",
        "outputId": "473ee502-31b5-4d14-9abc-a75baba92fc3",
        "colab": {
          "base_uri": "https://localhost:8080/",
          "height": 80
        }
      },
      "source": [
        "from keras.preprocessing.text import Tokenizer\n",
        "from keras.preprocessing.text import hashing_trick\n",
        "from keras.preprocessing.sequence import pad_sequences\n",
        "from keras.preprocessing.text import one_hot\n",
        "import numpy as np\n",
        "from math import *\n",
        "from scipy import stats"
      ],
      "execution_count": 0,
      "outputs": [
        {
          "output_type": "stream",
          "text": [
            "Using TensorFlow backend.\n"
          ],
          "name": "stderr"
        },
        {
          "output_type": "display_data",
          "data": {
            "text/html": [
              "<p style=\"color: red;\">\n",
              "The default version of TensorFlow in Colab will soon switch to TensorFlow 2.x.<br>\n",
              "We recommend you <a href=\"https://www.tensorflow.org/guide/migrate\" target=\"_blank\">upgrade</a> now \n",
              "or ensure your notebook will continue to use TensorFlow 1.x via the <code>%tensorflow_version 1.x</code> magic:\n",
              "<a href=\"https://colab.research.google.com/notebooks/tensorflow_version.ipynb\" target=\"_blank\">more info</a>.</p>\n"
            ],
            "text/plain": [
              "<IPython.core.display.HTML object>"
            ]
          },
          "metadata": {
            "tags": []
          }
        }
      ]
    },
    {
      "cell_type": "markdown",
      "metadata": {
        "id": "lv4dfNon9YCY",
        "colab_type": "text"
      },
      "source": [
        "### Max Length of the Description"
      ]
    },
    {
      "cell_type": "code",
      "metadata": {
        "id": "TyPT8t_99YCZ",
        "colab_type": "code",
        "outputId": "e9b046b2-77ec-4865-e838-7f2a76633ff6",
        "colab": {
          "base_uri": "https://localhost:8080/",
          "height": 185
        }
      },
      "source": [
        "top50data[top50data['Service Desciption'] == max(top50data['Service Desciption'], key=len)]"
      ],
      "execution_count": 0,
      "outputs": [
        {
          "output_type": "execute_result",
          "data": {
            "text/html": [
              "<div>\n",
              "<style scoped>\n",
              "    .dataframe tbody tr th:only-of-type {\n",
              "        vertical-align: middle;\n",
              "    }\n",
              "\n",
              "    .dataframe tbody tr th {\n",
              "        vertical-align: top;\n",
              "    }\n",
              "\n",
              "    .dataframe thead th {\n",
              "        text-align: right;\n",
              "    }\n",
              "</style>\n",
              "<table border=\"1\" class=\"dataframe\">\n",
              "  <thead>\n",
              "    <tr style=\"text-align: right;\">\n",
              "      <th></th>\n",
              "      <th>Service Desciption</th>\n",
              "      <th>Service Classification</th>\n",
              "    </tr>\n",
              "  </thead>\n",
              "  <tbody>\n",
              "    <tr>\n",
              "      <th>11856</th>\n",
              "      <td>GroupDocs is an online document management pla...</td>\n",
              "      <td>File Sharing</td>\n",
              "    </tr>\n",
              "  </tbody>\n",
              "</table>\n",
              "</div>"
            ],
            "text/plain": [
              "                                      Service Desciption Service Classification\n",
              "11856  GroupDocs is an online document management pla...           File Sharing"
            ]
          },
          "metadata": {
            "tags": []
          },
          "execution_count": 87
        }
      ]
    },
    {
      "cell_type": "code",
      "metadata": {
        "id": "lZtL7G8v9YCa",
        "colab_type": "code",
        "outputId": "1e5876ab-e8c5-431f-f1da-e2d190cc09e8",
        "colab": {
          "base_uri": "https://localhost:8080/",
          "height": 54
        }
      },
      "source": [
        "max(top50data['Service Desciption'], key=len)"
      ],
      "execution_count": 0,
      "outputs": [
        {
          "output_type": "execute_result",
          "data": {
            "text/plain": [
              "'GroupDocs is an online document management platform. GroupDocs allows users and organizations to manage and revise documents, create digital signatures, collaborate on documents, and search for all documents within groups. Various annotation options such as highlighting, underlining, striking out text as well as leaving comments on the text/images are included to make the proof-reading process easier for users. GroupDocs Annotation API for Kentico provides developers with a set of annotation tools, such as Text annotation, Area annotation, Point annotation, Polyline annotation and Strike-out text. Functionality of the Annotation API such as Text or image annotation, collaboration or exporting documents, allows developers to have the ultimate document management experience. Users can upload any PDF file and share this document with their colleagues through GroupDocs Annotation App. Any review comment incorporated will be saved and users can export the annotated PDF document with all the comments and annotations in place. All these notes and comments become part of the new exported file and can be viewed in any popular PDF reader. Email addresses of the reviewers are also highlighted so that developers can keep track of the comments from different reviewers at the same time. The Kentico Annotation API lets users annotate documents in real-time as well as collect review comments individually. Users have th option to collaborate with colleagues to share ideas via comments and see reviews in real-time. GroupDocs Annotation API for Kentico provides developers with a marker counter on the sidebar to easily navigate through all the comments. Familiar editing tools such as highlight text, insert a shape, strike out text as well as draw freehand directly on the document are available. GroupDocs Annotation API for Kentico enables users to annotate images, pictures and graphics as easily as text. Users can invite collaborators to review and add comments in the document simultaneously. Users can also keep an offline as well as hard-copy of the annotated PDF document for future reference. Interested developers can refer to the documentation for the RESTful API available online.'"
            ]
          },
          "metadata": {
            "tags": []
          },
          "execution_count": 88
        }
      ]
    },
    {
      "cell_type": "code",
      "metadata": {
        "id": "fZ1WUIo09YCb",
        "colab_type": "code",
        "outputId": "ec7ed707-0672-41a1-8140-51ed2a4e2879",
        "colab": {
          "base_uri": "https://localhost:8080/",
          "height": 54
        }
      },
      "source": [
        "len(max(top50data['Service Desciption'], key=len).split())"
      ],
      "execution_count": 0,
      "outputs": [
        {
          "output_type": "execute_result",
          "data": {
            "text/plain": [
              "334"
            ]
          },
          "metadata": {
            "tags": []
          },
          "execution_count": 89
        }
      ]
    },
    {
      "cell_type": "markdown",
      "metadata": {
        "id": "tkdU8Atp9YCc",
        "colab_type": "text"
      },
      "source": [
        "### Min Length of the Description"
      ]
    },
    {
      "cell_type": "code",
      "metadata": {
        "id": "HyuVHftM9YCd",
        "colab_type": "code",
        "outputId": "eafd4571-3f20-4609-ef59-5feda73bf4ae",
        "colab": {
          "base_uri": "https://localhost:8080/",
          "height": 151
        }
      },
      "source": [
        "top50data[top50data['Service Desciption'] == min(top50data['Service Desciption'], key=len)]"
      ],
      "execution_count": 0,
      "outputs": [
        {
          "output_type": "execute_result",
          "data": {
            "text/html": [
              "<div>\n",
              "<style scoped>\n",
              "    .dataframe tbody tr th:only-of-type {\n",
              "        vertical-align: middle;\n",
              "    }\n",
              "\n",
              "    .dataframe tbody tr th {\n",
              "        vertical-align: top;\n",
              "    }\n",
              "\n",
              "    .dataframe thead th {\n",
              "        text-align: right;\n",
              "    }\n",
              "</style>\n",
              "<table border=\"1\" class=\"dataframe\">\n",
              "  <thead>\n",
              "    <tr style=\"text-align: right;\">\n",
              "      <th></th>\n",
              "      <th>Service Desciption</th>\n",
              "      <th>Service Classification</th>\n",
              "    </tr>\n",
              "  </thead>\n",
              "  <tbody>\n",
              "    <tr>\n",
              "      <th>14766</th>\n",
              "      <td>Czech mapping API.</td>\n",
              "      <td>Mapping</td>\n",
              "    </tr>\n",
              "  </tbody>\n",
              "</table>\n",
              "</div>"
            ],
            "text/plain": [
              "       Service Desciption Service Classification\n",
              "14766  Czech mapping API.                Mapping"
            ]
          },
          "metadata": {
            "tags": []
          },
          "execution_count": 90
        }
      ]
    },
    {
      "cell_type": "code",
      "metadata": {
        "scrolled": true,
        "id": "kFv34sRn9YCe",
        "colab_type": "code",
        "outputId": "03f35963-98ab-4aa8-8643-fb886f59e774",
        "colab": {
          "base_uri": "https://localhost:8080/",
          "height": 54
        }
      },
      "source": [
        "min(top50data['Service Desciption'], key=len)"
      ],
      "execution_count": 0,
      "outputs": [
        {
          "output_type": "execute_result",
          "data": {
            "text/plain": [
              "'Czech mapping API.'"
            ]
          },
          "metadata": {
            "tags": []
          },
          "execution_count": 91
        }
      ]
    },
    {
      "cell_type": "code",
      "metadata": {
        "id": "x0UPwT5a9YCf",
        "colab_type": "code",
        "outputId": "3cb9d4e0-3772-4071-8501-3321ce976d2f",
        "colab": {
          "base_uri": "https://localhost:8080/",
          "height": 54
        }
      },
      "source": [
        "len(min(top50data['Service Desciption'], key=len).split())"
      ],
      "execution_count": 0,
      "outputs": [
        {
          "output_type": "execute_result",
          "data": {
            "text/plain": [
              "3"
            ]
          },
          "metadata": {
            "tags": []
          },
          "execution_count": 92
        }
      ]
    },
    {
      "cell_type": "markdown",
      "metadata": {
        "id": "ulhdf_tj9YCg",
        "colab_type": "text"
      },
      "source": [
        "### Keep data within confidence level 90%"
      ]
    },
    {
      "cell_type": "code",
      "metadata": {
        "id": "aXoL9DNo9YCg",
        "colab_type": "code",
        "colab": {}
      },
      "source": [
        "f = lambda x : len(x.split())\n",
        "lens = top50data['Service Desciption'].apply(f)"
      ],
      "execution_count": 0,
      "outputs": []
    },
    {
      "cell_type": "code",
      "metadata": {
        "id": "gfaP011h9YCj",
        "colab_type": "code",
        "outputId": "180eac1d-076f-4914-9190-2f4f01d93582",
        "colab": {
          "base_uri": "https://localhost:8080/",
          "height": 54
        }
      },
      "source": [
        "mu = np.mean(lens)\n",
        "mu"
      ],
      "execution_count": 0,
      "outputs": [
        {
          "output_type": "execute_result",
          "data": {
            "text/plain": [
              "67.36634115177512"
            ]
          },
          "metadata": {
            "tags": []
          },
          "execution_count": 94
        }
      ]
    },
    {
      "cell_type": "code",
      "metadata": {
        "id": "WTstofUn9YCk",
        "colab_type": "code",
        "outputId": "98b40c73-fda0-41d3-f014-c341e125f887",
        "colab": {
          "base_uri": "https://localhost:8080/",
          "height": 54
        }
      },
      "source": [
        "sigma = np.std(lens)\n",
        "sigma"
      ],
      "execution_count": 0,
      "outputs": [
        {
          "output_type": "execute_result",
          "data": {
            "text/plain": [
              "26.00721866537207"
            ]
          },
          "metadata": {
            "tags": []
          },
          "execution_count": 95
        }
      ]
    },
    {
      "cell_type": "code",
      "metadata": {
        "id": "xBd6i5Ti9YCl",
        "colab_type": "code",
        "outputId": "d2f49a92-8455-458a-f6cf-e51d322325b6",
        "colab": {
          "base_uri": "https://localhost:8080/",
          "height": 54
        }
      },
      "source": [
        "interval = stats.norm.interval(0.9, mu, sigma) \n",
        "interval"
      ],
      "execution_count": 0,
      "outputs": [
        {
          "output_type": "execute_result",
          "data": {
            "text/plain": [
              "(24.58827320311783, 110.1444091004324)"
            ]
          },
          "metadata": {
            "tags": []
          },
          "execution_count": 96
        }
      ]
    },
    {
      "cell_type": "markdown",
      "metadata": {
        "id": "39fnBRKA9YCm",
        "colab_type": "text"
      },
      "source": [
        "### Historgram of Length Distribution "
      ]
    },
    {
      "cell_type": "code",
      "metadata": {
        "id": "xVWIZVa19YCm",
        "colab_type": "code",
        "outputId": "4a926ff6-6db0-4e4d-e144-1d70eab3c044",
        "colab": {
          "base_uri": "https://localhost:8080/",
          "height": 295
        }
      },
      "source": [
        "plt.hist(lens, bins=500, facecolor='r',histtype='stepfilled')  \n",
        " \n",
        "plt.xlabel('Length')\n",
        "plt.ylabel('Number of Length')\n",
        "plt.title('Length Distribution of Service Description')\n",
        "plt.savefig('Data/HistogramDescriptionLength.pdf', format='pdf', dpi=300)"
      ],
      "execution_count": 0,
      "outputs": [
        {
          "output_type": "display_data",
          "data": {
            "image/png": "[encoded data removed]",
            "text/plain": [
              "<Figure size 432x288 with 1 Axes>"
            ]
          },
          "metadata": {
            "tags": []
          }
        }
      ]
    },
    {
      "cell_type": "code",
      "metadata": {
        "id": "9WbnG1dH9YCn",
        "colab_type": "code",
        "colab": {}
      },
      "source": [
        "finaltop50data = top50data[(lens >= interval[0]) & (lens <= interval[1])]"
      ],
      "execution_count": 0,
      "outputs": []
    },
    {
      "cell_type": "code",
      "metadata": {
        "id": "sUMXkDeF9YCo",
        "colab_type": "code",
        "outputId": "0534d559-e3b4-4303-dc92-8c0b2e9dd985",
        "colab": {
          "base_uri": "https://localhost:8080/",
          "height": 34
        }
      },
      "source": [
        "finaltop50data.shape"
      ],
      "execution_count": 0,
      "outputs": [
        {
          "output_type": "execute_result",
          "data": {
            "text/plain": [
              "(10182, 2)"
            ]
          },
          "metadata": {
            "tags": []
          },
          "execution_count": 100
        }
      ]
    },
    {
      "cell_type": "code",
      "metadata": {
        "id": "KHaSiHKq9YCp",
        "colab_type": "code",
        "outputId": "d4478db3-50cc-46e4-8045-7d533b3144fd",
        "colab": {
          "base_uri": "https://localhost:8080/",
          "height": 204
        }
      },
      "source": [
        "finaltop50data.head()"
      ],
      "execution_count": 0,
      "outputs": [
        {
          "output_type": "execute_result",
          "data": {
            "text/html": [
              "<div>\n",
              "<style scoped>\n",
              "    .dataframe tbody tr th:only-of-type {\n",
              "        vertical-align: middle;\n",
              "    }\n",
              "\n",
              "    .dataframe tbody tr th {\n",
              "        vertical-align: top;\n",
              "    }\n",
              "\n",
              "    .dataframe thead th {\n",
              "        text-align: right;\n",
              "    }\n",
              "</style>\n",
              "<table border=\"1\" class=\"dataframe\">\n",
              "  <thead>\n",
              "    <tr style=\"text-align: right;\">\n",
              "      <th></th>\n",
              "      <th>Service Desciption</th>\n",
              "      <th>Service Classification</th>\n",
              "    </tr>\n",
              "  </thead>\n",
              "  <tbody>\n",
              "    <tr>\n",
              "      <th>1</th>\n",
              "      <td>It has been split into multiple APIs, includin...</td>\n",
              "      <td>Social</td>\n",
              "    </tr>\n",
              "    <tr>\n",
              "      <th>3</th>\n",
              "      <td>The Flickr API can be used to retrieve photos ...</td>\n",
              "      <td>Photos</td>\n",
              "    </tr>\n",
              "    <tr>\n",
              "      <th>5</th>\n",
              "      <td>What was formerly the ECSeCommerce Servicehas ...</td>\n",
              "      <td>eCommerce</td>\n",
              "    </tr>\n",
              "    <tr>\n",
              "      <th>7</th>\n",
              "      <td>The Last.fm API gives users the ability to bui...</td>\n",
              "      <td>Music</td>\n",
              "    </tr>\n",
              "    <tr>\n",
              "      <th>10</th>\n",
              "      <td>Bing Maps API and Interactive SDK features an ...</td>\n",
              "      <td>Mapping</td>\n",
              "    </tr>\n",
              "  </tbody>\n",
              "</table>\n",
              "</div>"
            ],
            "text/plain": [
              "                                   Service Desciption Service Classification\n",
              "1   It has been split into multiple APIs, includin...                 Social\n",
              "3   The Flickr API can be used to retrieve photos ...                 Photos\n",
              "5   What was formerly the ECSeCommerce Servicehas ...              eCommerce\n",
              "7   The Last.fm API gives users the ability to bui...                  Music\n",
              "10  Bing Maps API and Interactive SDK features an ...                Mapping"
            ]
          },
          "metadata": {
            "tags": []
          },
          "execution_count": 101
        }
      ]
    },
    {
      "cell_type": "markdown",
      "metadata": {
        "id": "sifYqqEk9YCq",
        "colab_type": "text"
      },
      "source": [
        "## Final Preview "
      ]
    },
    {
      "cell_type": "code",
      "metadata": {
        "id": "-taZbE-u9YCq",
        "colab_type": "code",
        "outputId": "3d818c42-f57a-41c2-bed4-36042b7bf395",
        "colab": {
          "base_uri": "https://localhost:8080/",
          "height": 34
        }
      },
      "source": [
        "finaltop50data.shape"
      ],
      "execution_count": 0,
      "outputs": [
        {
          "output_type": "execute_result",
          "data": {
            "text/plain": [
              "(10182, 2)"
            ]
          },
          "metadata": {
            "tags": []
          },
          "execution_count": 102
        }
      ]
    },
    {
      "cell_type": "code",
      "metadata": {
        "id": "5TIxcf8r9YCr",
        "colab_type": "code",
        "colab": {}
      },
      "source": [
        "labelcount = finaltop50data['Service Classification'].value_counts()"
      ],
      "execution_count": 0,
      "outputs": []
    },
    {
      "cell_type": "code",
      "metadata": {
        "id": "jc4sc1qz9YCs",
        "colab_type": "code",
        "outputId": "f568d79f-0304-46fc-9a59-29cdc69f83ae",
        "colab": {
          "base_uri": "https://localhost:8080/",
          "height": 884
        }
      },
      "source": [
        "labelcount"
      ],
      "execution_count": 0,
      "outputs": [
        {
          "output_type": "execute_result",
          "data": {
            "text/plain": [
              "Tools                      726\n",
              "Financial                  649\n",
              "Messaging                  481\n",
              "eCommerce                  430\n",
              "Payments                   423\n",
              "Social                     398\n",
              "Enterprise                 391\n",
              "Mapping                    331\n",
              "Telephony                  283\n",
              "Science                    274\n",
              "Government                 271\n",
              "Email                      237\n",
              "Security                   233\n",
              "Reference                  231\n",
              "Video                      231\n",
              "Travel                     222\n",
              "Sports                     215\n",
              "Search                     213\n",
              "Advertising                209\n",
              "Transportation             207\n",
              "Education                  201\n",
              "Games                      195\n",
              "Music                      182\n",
              "Photos                     173\n",
              "Cloud                      161\n",
              "Other                      142\n",
              "Bitcoin                    140\n",
              "Project Management         139\n",
              "Data                       136\n",
              "Backend                    132\n",
              "Database                   131\n",
              "Shipping                   127\n",
              "Weather                    114\n",
              "Application Development    112\n",
              "Analytics                  111\n",
              "Internet of Things         110\n",
              "Events                     102\n",
              "Real Estate                102\n",
              "Medical                    102\n",
              "Banking                     99\n",
              "Stocks                      94\n",
              "Entertainment               93\n",
              "Storage                     91\n",
              "File Sharing                79\n",
              "News Services               78\n",
              "Domains                     77\n",
              "Office                      77\n",
              "Media                       76\n",
              "Chat                        76\n",
              "Images                      75\n",
              "Name: Service Classification, dtype: int64"
            ]
          },
          "metadata": {
            "tags": []
          },
          "execution_count": 104
        }
      ]
    },
    {
      "cell_type": "code",
      "metadata": {
        "id": "4UxGybMP9YCs",
        "colab_type": "code",
        "outputId": "a36cc5d8-a566-4a06-fac7-121be4629540",
        "colab": {
          "base_uri": "https://localhost:8080/",
          "height": 1000
        }
      },
      "source": [
        "plt.figure(figsize=(25, 15))\n",
        "labelcount.plot(kind='bar', fontsize=15)\n",
        "plt.savefig('Data/PostPrecessingHistogramTop50.pdf', format='pdf', dpi=300)"
      ],
      "execution_count": 0,
      "outputs": [
        {
          "output_type": "display_data",
          "data": {
            "image/png": "[encoded data removed]",
            "text/plain": [
              "<Figure size 1800x1080 with 1 Axes>"
            ]
          },
          "metadata": {
            "tags": []
          }
        }
      ]
    },
    {
      "cell_type": "markdown",
      "metadata": {
        "id": "SJIz7f2A9YCt",
        "colab_type": "text"
      },
      "source": [
        "## 4. Save as CSV"
      ]
    },
    {
      "cell_type": "code",
      "metadata": {
        "id": "PFVyPYfE9YCu",
        "colab_type": "code",
        "colab": {}
      },
      "source": [
        "finaltop50data.to_csv('Data/Service.csv', encoding='utf-8', index=False, header=True)"
      ],
      "execution_count": 0,
      "outputs": []
    },
    {
      "cell_type": "markdown",
      "metadata": {
        "id": "kPxVYtft9YCu",
        "colab_type": "text"
      },
      "source": [
        "## 5. Save to H5"
      ]
    },
    {
      "cell_type": "code",
      "metadata": {
        "id": "ioCHycyc9YCu",
        "colab_type": "code",
        "colab": {}
      },
      "source": [
        "h5f = HDFStore('Data/Service.h5')\n",
        "h5f.put('AllData', finaltop50data)\n",
        "h5f.close()"
      ],
      "execution_count": 0,
      "outputs": []
    }
  ]
}