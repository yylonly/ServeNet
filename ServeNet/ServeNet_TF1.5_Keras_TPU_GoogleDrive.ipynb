{
  "nbformat": 4,
  "nbformat_minor": 0,
  "metadata": {
    "colab": {
      "name": "TF-Keras-TPU-GoogleDrive",
      "provenance": [],
      "collapsed_sections": [],
      "include_colab_link": true
    },
    "kernelspec": {
      "name": "python3",
      "display_name": "Python 3"
    },
    "accelerator": "TPU"
  },
  "cells": [
    {
      "cell_type": "markdown",
      "metadata": {
        "id": "view-in-github",
        "colab_type": "text"
      },
      "source": [
        "<a href=\"https://colab.research.google.com/github/yylonly/ServeNet/blob/stacked-bert/ServeNet/ServeNet_TF1.5_Keras_TPU_GoogleDrive.ipynb\" target=\"_parent\"><img src=\"https://colab.research.google.com/assets/colab-badge.svg\" alt=\"Open In Colab\"/></a>"
      ]
    },
    {
      "cell_type": "code",
      "metadata": {
        "id": "UpjwxyWEM0uW",
        "colab_type": "code",
        "colab": {}
      },
      "source": [
        "#!kill -9 -1"
      ],
      "execution_count": 0,
      "outputs": []
    },
    {
      "cell_type": "code",
      "metadata": {
        "id": "3ka79TIssS9R",
        "colab_type": "code",
        "colab": {}
      },
      "source": [
        "SavePrefix='TF-Keras-TPU-GoolgeDrive'\n"
      ],
      "execution_count": 0,
      "outputs": []
    },
    {
      "cell_type": "code",
      "metadata": {
        "id": "1doW1Rc69JQC",
        "colab_type": "code",
        "outputId": "96e40177-049c-4b70-f4e5-6db4d792e345",
        "colab": {
          "base_uri": "https://localhost:8080/",
          "height": 34
        }
      },
      "source": [
        "from google.colab import drive\n",
        "drive.mount('/content/drive')"
      ],
      "execution_count": 0,
      "outputs": [
        {
          "output_type": "stream",
          "text": [
            "Drive already mounted at /content/drive; to attempt to forcibly remount, call drive.mount(\"/content/drive\", force_remount=True).\n"
          ],
          "name": "stdout"
        }
      ]
    },
    {
      "cell_type": "code",
      "metadata": {
        "id": "_wWiT3CWBBvD",
        "colab_type": "code",
        "colab": {}
      },
      "source": [
        "import os\n",
        "\n",
        "if os.path.isdir(\"/content/drive/My Drive/ServeNet\"):\n",
        "  os.chdir(\"/content/drive/My Drive/ServeNet\")\n",
        "else: \n",
        "  !git clone https://github.com/yylonly/ServeNet.git\n",
        "  os.chdir(\"/content/drive/My Drive/ServeNet\")"
      ],
      "execution_count": 0,
      "outputs": []
    },
    {
      "cell_type": "code",
      "metadata": {
        "id": "o4kuYB6k9e7Q",
        "colab_type": "code",
        "outputId": "43dd9f33-0cbc-4a89-c2b6-0961a0b12ad0",
        "colab": {
          "base_uri": "https://localhost:8080/",
          "height": 374
        }
      },
      "source": [
        "!ls -l "
      ],
      "execution_count": 0,
      "outputs": [
        {
          "output_type": "stream",
          "text": [
            "total 56\n",
            "drwx------ 2 root root 4096 Nov 22 16:59 AdaBoost_Net\n",
            "drwx------ 2 root root 4096 Nov 22 16:59 Colab\n",
            "drwx------ 2 root root 4096 Nov 26 15:08 Data\n",
            "-rw------- 1 root root  311 Nov 22 16:59 Dockerfile\n",
            "drwx------ 2 root root 4096 Nov 22 16:59 LDA_SVM_Net\n",
            "drwx------ 2 root root 4096 Nov 22 16:59 Naive_Bayes_Net\n",
            "drwx------ 2 root root 4096 Nov 22 16:59 Random_Forest_Net\n",
            "-rw------- 1 root root 1794 Nov 22 16:59 README.md\n",
            "drwx------ 2 root root 4096 Nov 22 16:59 Result\n",
            "drwx------ 2 root root 4096 Nov 22 16:59 ServeNet\n",
            "-rw------- 1 root root 3031 Nov 23 16:09 ServeNetHistory\n",
            "-rw------- 1 root root 1191 Nov 23 16:09 ServeNetLoss.pdf\n",
            "-rw------- 1 root root 1191 Nov 23 16:09 ServeNetTop1.pdf\n",
            "-rw------- 1 root root 1191 Nov 23 16:09 ServeNetTop5.pdf\n",
            "-rw------- 1 root root 1487 Nov 26 14:58 TF-Keras-TPU-GoolgeDrive-ServeNetHistory\n",
            "-rw------- 1 root root 1191 Nov 26 14:58 TF-Keras-TPU-GoolgeDrive-ServeNetLoss.pdf\n",
            "-rw------- 1 root root 1191 Nov 26 14:58 TF-Keras-TPU-GoolgeDriveServeNetTop1.pdf\n",
            "-rw------- 1 root root 1191 Nov 26 14:58 TF-Keras-TPU-GoolgeDrive-ServeNetTop5.pdf\n",
            "drwx------ 2 root root 4096 Nov 22 16:59 Utils\n",
            "drwx------ 2 root root 4096 Nov 22 16:59 WebScrapyForAPI\n"
          ],
          "name": "stdout"
        }
      ]
    },
    {
      "cell_type": "code",
      "metadata": {
        "id": "LobG3_VqDbQq",
        "colab_type": "code",
        "outputId": "ac5a4990-9abf-4c59-ea83-b146b1a77a92",
        "colab": {
          "base_uri": "https://localhost:8080/",
          "height": 34
        }
      },
      "source": [
        "# compatible with keras\n",
        "\n",
        "from tensorflow import keras\n",
        "import numpy as np\n",
        "import os\n",
        "\n",
        "import tensorflow as tf\n",
        "\n",
        "print(\"Tensorflow version \" + tf.__version__)"
      ],
      "execution_count": 0,
      "outputs": [
        {
          "output_type": "stream",
          "text": [
            "Tensorflow version 1.15.0\n"
          ],
          "name": "stdout"
        }
      ]
    },
    {
      "cell_type": "code",
      "metadata": {
        "id": "Vt7E_XF6D1Te",
        "colab_type": "code",
        "outputId": "16866c68-c2a7-4956-e839-95b650ad63e6",
        "colab": {
          "base_uri": "https://localhost:8080/",
          "height": 377
        }
      },
      "source": [
        "# Detect hardware\n",
        "# tf.keras.backend.clear_session()\n",
        "# tf.reset_default_graph()\n",
        "\n",
        "# resolver = tf.contrib.cluster_resolver.TPUClusterResolver('grpc://' + os.environ['COLAB_TPU_ADDR'])\n",
        "# tf.contrib.distribute.initialize_tpu_system(resolver)\n",
        "# strategy = tf.contrib.distribute.TPUStrategy(resolver)\n",
        "\n",
        "try:\n",
        "  tpu = tf.distribute.cluster_resolver.TPUClusterResolver() # TPU detection\n",
        "except ValueError:\n",
        "  tpu = None\n",
        "  gpus = tf.config.experimental.list_logical_devices(\"GPU\")\n",
        "    \n",
        "# Select appropriate distribution strategy\n",
        "if tpu:\n",
        "  tf.tpu.experimental.initialize_tpu_system(tpu)\n",
        "  strategy = tf.distribute.experimental.TPUStrategy(tpu) # Going back and forth between TPU and host is expensive. Better to run 128 batches on the TPU before reporting back.\n",
        "  print('Running on TPU ', tpu.cluster_spec().as_dict()['worker'])  \n",
        "elif len(gpus) > 1:\n",
        "  strategy = tf.distribute.MirroredStrategy([gpu.name for gpu in gpus])\n",
        "  print('Running on multiple GPUs ', [gpu.name for gpu in gpus])\n",
        "elif len(gpus) == 1:\n",
        "  strategy = tf.distribute.get_strategy() # default strategy that works on CPU and single GPU\n",
        "  print('Running on single GPU ', gpus[0].name)\n",
        "else:\n",
        "  strategy = tf.distribute.get_strategy() # default strategy that works on CPU and single GPU\n",
        "  print('Running on CPU')\n",
        "print(\"Number of accelerators: \", strategy.num_replicas_in_sync)"
      ],
      "execution_count": 0,
      "outputs": [
        {
          "output_type": "stream",
          "text": [
            "INFO:tensorflow:Initializing the TPU system: 10.1.71.194:8470\n",
            "INFO:tensorflow:Finished initializing TPU system.\n",
            "INFO:tensorflow:Querying Tensorflow master (grpc://10.1.71.194:8470) for TPU system metadata.\n",
            "INFO:tensorflow:Found TPU system:\n",
            "INFO:tensorflow:*** Num TPU Cores: 8\n",
            "INFO:tensorflow:*** Num TPU Workers: 1\n",
            "INFO:tensorflow:*** Num TPU Cores Per Worker: 8\n",
            "INFO:tensorflow:*** Available Device: _DeviceAttributes(/job:worker/replica:0/task:0/device:CPU:0, CPU, -1, 15974936447426035621)\n",
            "INFO:tensorflow:*** Available Device: _DeviceAttributes(/job:worker/replica:0/task:0/device:TPU:0, TPU, 17179869184, 4145356314974468720)\n",
            "INFO:tensorflow:*** Available Device: _DeviceAttributes(/job:worker/replica:0/task:0/device:TPU:1, TPU, 17179869184, 11122739602206450324)\n",
            "INFO:tensorflow:*** Available Device: _DeviceAttributes(/job:worker/replica:0/task:0/device:TPU:2, TPU, 17179869184, 10871791738329850188)\n",
            "INFO:tensorflow:*** Available Device: _DeviceAttributes(/job:worker/replica:0/task:0/device:TPU:3, TPU, 17179869184, 16377677194403007383)\n",
            "INFO:tensorflow:*** Available Device: _DeviceAttributes(/job:worker/replica:0/task:0/device:TPU:4, TPU, 17179869184, 17457122728829842984)\n",
            "INFO:tensorflow:*** Available Device: _DeviceAttributes(/job:worker/replica:0/task:0/device:TPU:5, TPU, 17179869184, 10939875440602341284)\n",
            "INFO:tensorflow:*** Available Device: _DeviceAttributes(/job:worker/replica:0/task:0/device:TPU:6, TPU, 17179869184, 16738407687084205772)\n",
            "INFO:tensorflow:*** Available Device: _DeviceAttributes(/job:worker/replica:0/task:0/device:TPU:7, TPU, 17179869184, 8773524859085643733)\n",
            "INFO:tensorflow:*** Available Device: _DeviceAttributes(/job:worker/replica:0/task:0/device:TPU_SYSTEM:0, TPU_SYSTEM, 8589934592, 3202603574067346899)\n",
            "INFO:tensorflow:*** Available Device: _DeviceAttributes(/job:worker/replica:0/task:0/device:XLA_CPU:0, XLA_CPU, 17179869184, 6812587109293957103)\n",
            "Running on TPU  ['10.1.71.194:8470']\n",
            "Number of accelerators:  8\n"
          ],
          "name": "stdout"
        }
      ]
    },
    {
      "cell_type": "code",
      "metadata": {
        "id": "sozcTc1JJ9_8",
        "colab_type": "code",
        "outputId": "282e5064-242e-489e-9dc1-b9c536d34713",
        "colab": {
          "base_uri": "https://localhost:8080/",
          "height": 34
        }
      },
      "source": [
        "import matplotlib.pyplot as plt\n",
        "%matplotlib inline\n",
        "import seaborn as sns\n",
        "import csv\n",
        "import h5py\n",
        "import pandas as pd\n",
        "\n",
        "#from sklearn.model_selection import train_test_split\n",
        "\n",
        "\n",
        "from tensorflow.keras.models import Model\n",
        "from tensorflow.keras.models import load_model\n",
        "from keras import metrics\n",
        "from tensorflow.keras.layers import Dense, Input, Dropout, LSTM, Activation, Conv2D, Reshape, Average\n",
        "from tensorflow.keras.layers import Embedding\n",
        "from tensorflow.keras.preprocessing import sequence\n",
        "from tensorflow.keras.preprocessing.sequence import pad_sequences\n",
        "from tensorflow.keras.preprocessing.text import Tokenizer\n",
        "from tensorflow.keras.initializers import glorot_uniform\n",
        "from tensorflow.keras.callbacks import ModelCheckpoint\n",
        "from tensorflow.keras.layers import Bidirectional\n",
        "from tensorflow.keras.initializers import Orthogonal\n",
        "\n"
      ],
      "execution_count": 0,
      "outputs": [
        {
          "output_type": "stream",
          "text": [
            "Using TensorFlow backend.\n"
          ],
          "name": "stderr"
        }
      ]
    },
    {
      "cell_type": "code",
      "metadata": {
        "id": "FffWzVYpNyRL",
        "colab_type": "code",
        "outputId": "619eb280-ae48-43d7-a2aa-be011e691cf8",
        "colab": {
          "base_uri": "https://localhost:8080/",
          "height": 51
        }
      },
      "source": [
        "h5f = h5py.File('Data/SplittedPaddedIndexedServiceDataset.h5','r') \n",
        "X_train = h5f['indexed_padded_Train_X'][:8064].astype(np.int32)\n",
        "Y_train = h5f['Train_Y_one_hot'][:8064].astype(np.int32)\n",
        "X_test = h5f['indexed_padded_Test_X'][:2048].astype(np.int32)\n",
        "Y_test = h5f['Test_Y_one_hot'][:2048].astype(np.int32)\n",
        "print(X_train.shape, Y_train.shape)\n",
        "print(X_test.shape, Y_test.shape)\n",
        "h5f.close()"
      ],
      "execution_count": 0,
      "outputs": [
        {
          "output_type": "stream",
          "text": [
            "(8064, 110) (8064, 50)\n",
            "(2048, 110) (2048, 50)\n"
          ],
          "name": "stdout"
        }
      ]
    },
    {
      "cell_type": "code",
      "metadata": {
        "id": "AZO5mU1LQVMo",
        "colab_type": "code",
        "colab": {}
      },
      "source": [
        "batch_size = 128\n",
        "step = len(X_train) // batch_size"
      ],
      "execution_count": 0,
      "outputs": []
    },
    {
      "cell_type": "code",
      "metadata": {
        "id": "WUpXAeUeX3iT",
        "colab_type": "code",
        "outputId": "65535052-cad7-41d7-fe63-1b79c4152db6",
        "colab": {
          "base_uri": "https://localhost:8080/",
          "height": 34
        }
      },
      "source": [
        "step*64"
      ],
      "execution_count": 0,
      "outputs": [
        {
          "output_type": "execute_result",
          "data": {
            "text/plain": [
              "4032"
            ]
          },
          "metadata": {
            "tags": []
          },
          "execution_count": 11
        }
      ]
    },
    {
      "cell_type": "code",
      "metadata": {
        "id": "P7uAkRXuRZE6",
        "colab_type": "code",
        "colab": {}
      },
      "source": [
        "def read_glove_vecs(glove_file):\n",
        "    with open(glove_file, 'r', encoding=\"utf-8\") as f:\n",
        "        words = set()\n",
        "        word_to_vec_map = {}\n",
        "        for line in f:\n",
        "            line = line.strip().split()\n",
        "            curr_word = line[0]\n",
        "            words.add(curr_word)\n",
        "            word_to_vec_map[curr_word] = np.array(line[1:], dtype=np.float64)\n",
        "        \n",
        "        i = 1\n",
        "        words_to_index = {}\n",
        "        index_to_words = {}\n",
        "        for w in sorted(words):\n",
        "            words_to_index[w] = i\n",
        "            index_to_words[i] = w\n",
        "            i = i + 1\n",
        "    return words_to_index, index_to_words, word_to_vec_map"
      ],
      "execution_count": 0,
      "outputs": []
    },
    {
      "cell_type": "code",
      "metadata": {
        "id": "ysgSsaX1R6LK",
        "colab_type": "code",
        "colab": {}
      },
      "source": [
        "if not os.path.isfile(\"Data/glove.6B.200d.txt\"):\n",
        "  !wget http://nlp.stanford.edu/data/glove.6B.zip -P Data\n",
        "  !unzip Data/glove.6B.zip -d Data"
      ],
      "execution_count": 0,
      "outputs": []
    },
    {
      "cell_type": "code",
      "metadata": {
        "id": "-RPQ5lYLRf6i",
        "colab_type": "code",
        "colab": {}
      },
      "source": [
        "word_to_index, index_to_word, word_to_vec_map = read_glove_vecs('Data/glove.6B.200d.txt')"
      ],
      "execution_count": 0,
      "outputs": []
    },
    {
      "cell_type": "code",
      "metadata": {
        "id": "n4DlOlUGqRcC",
        "colab_type": "code",
        "colab": {}
      },
      "source": [
        "vocab_len = len(word_to_index) + 1                  # adding 1 to fit Keras embedding (requirement)\n",
        "emb_dim = word_to_vec_map[\"cucumber\"].shape[0]      # define dimensionality of your GloVe word vectors (= 50)"
      ],
      "execution_count": 0,
      "outputs": []
    },
    {
      "cell_type": "code",
      "metadata": {
        "id": "cAKCOFh_V1Kz",
        "colab_type": "code",
        "colab": {}
      },
      "source": [
        "# GRADED FUNCTION: pretrained_embedding_layer\n",
        "\n",
        "def trainable_embedding_layer():\n",
        "    \"\"\"\n",
        "    Creates a Keras Embedding() layer and loads in pre-trained GloVe 50-dimensional vectors.\n",
        "    \n",
        "    Arguments:\n",
        "    word_to_vec_map -- dictionary mapping words to their GloVe vector representation.\n",
        "    word_to_index -- dictionary mapping from words to their indices in the vocabulary (400,001 words)\n",
        "\n",
        "    Returns:\n",
        "    embedding_layer -- pretrained layer Keras instance\n",
        "    \"\"\"\n",
        "    vocab_len = len(word_to_index) + 1                  # adding 1 to fit Keras embedding (requirement)\n",
        "    emb_dim = word_to_vec_map[\"cucumber\"].shape[0]      # define dimensionality of your GloVe word vectors (= 50)\n",
        "    \n",
        "    ### START CODE HERE ###\n",
        "    # Initialize the embedding matrix as a numpy array of zeros of shape (vocab_len, dimensions of word vectors = emb_dim)\n",
        "    emb_matrix = np.zeros((vocab_len, emb_dim))\n",
        "    \n",
        "    # Set each row \"index\" of the embedding matrix to be the word vector representation of the \"index\"th word of the vocabulary\n",
        "    for word, index in word_to_index.items():\n",
        "        embedding_vector = word_to_vec_map.get(word)\n",
        "        if embedding_vector is not None:\n",
        "            emb_matrix[index, :] = embedding_vector\n",
        "\n",
        "    # Define Keras embedding layer with the correct output/input sizes, make it trainable. Use Embedding(...). Make sure to set trainable=False. \n",
        "    embedding_layer = Embedding(vocab_len, emb_dim, trainable=False)\n",
        "    ### END CODE HERE ###\n",
        "\n",
        "    # Build the embedding layer, it is required before setting the weights of the embedding layer. Do not modify the \"None\".\n",
        "    embedding_layer.build((None,))\n",
        "    \n",
        "    # Set the weights of the embedding layer to the embedding matrix. Your layer is now pretrained.\n",
        "    # embedding_layer.set_weights([emb_matrix])\n",
        "    \n",
        "    return embedding_layer\n"
      ],
      "execution_count": 0,
      "outputs": []
    },
    {
      "cell_type": "code",
      "metadata": {
        "id": "TJC4IM_2mVjF",
        "colab_type": "code",
        "outputId": "6a01d382-41af-4062-8f8f-881238b8900e",
        "colab": {
          "base_uri": "https://localhost:8080/",
          "height": 51
        }
      },
      "source": [
        "vocab_len = len(word_to_index) + 1                  # adding 1 to fit Keras embedding (requirement)\n",
        "print(vocab_len)\n",
        "emb_dim = word_to_vec_map[\"cucumber\"].shape[0]      # define dimensionality of your GloVe word vectors (= 50)\n",
        "print(emb_dim)"
      ],
      "execution_count": 0,
      "outputs": [
        {
          "output_type": "stream",
          "text": [
            "400001\n",
            "200\n"
          ],
          "name": "stdout"
        }
      ]
    },
    {
      "cell_type": "code",
      "metadata": {
        "id": "qu6Kpu0wVz8j",
        "colab_type": "code",
        "colab": {}
      },
      "source": [
        "# val_top_k_categorical_accuracy: 0.8845\n",
        "\n",
        "def ServeNet(input_shape):\n",
        "    \"\"\"\n",
        "    Function creating the ServeNet model\n",
        "    \n",
        "    Arguments:\n",
        "    input_shape -- shape of the input, usually (max_len,)\n",
        "\n",
        "    Returns:\n",
        "    model -- a model instance in Keras\n",
        "    \"\"\"\n",
        "    \n",
        "    ### START CODE HERE ###\n",
        "    # Define sentence_indices as the input of the graph, it should be of shape input_shape and dtype 'int32' (as it contains indices).\n",
        "    sentence_indices = Input(shape=input_shape, dtype='float32')\n",
        "    \n",
        "    # Create the embedding layer pretrained with GloVe Vectors (≈1 line)\n",
        "    # embedding_layer = trainable_embedding_layer()\n",
        "    embedding_layer = tf.keras.layers.Embedding(input_dim=vocab_len, output_dim=emb_dim)\n",
        "    \n",
        "    # Propagate sentence_indices through your embedding layer, you get back the embeddings\n",
        "    embeddings = embedding_layer(sentence_indices) \n",
        "\n",
        "\n",
        "    embeddings = Reshape((110, 200, 1))(embeddings)\n",
        "    \n",
        "    features1 = Conv2D(64, kernel_size=(3, 3), padding='same')(embeddings)\n",
        "    features2 = Conv2D(1, kernel_size=(1, 1), padding='same')(features1)\n",
        "    features = Reshape((110, 200))(features2)\n",
        "     \n",
        "    print(features)\n",
        "      \n",
        "    # Propagate X trough another LSTM layer with 128-dimensional hidden state\n",
        "    # Be careful, the returned output should be a single hidden state, not a batch of sequences.\n",
        "    X = Bidirectional(LSTM(512, return_sequences=False))(features)\n",
        "    # Add dropout with a probability of 0.5\n",
        "    X = Dropout(0.5)(X)\n",
        "    # Propagate X through a Dense layer with softmax activation to get back a batch of 5-dimensional vectors.\n",
        "    X = Dense(200, activation='tanh')(X)\n",
        "    X = Dropout(0.2)(X)\n",
        "    X = Dense(50, activation='softmax', dtype='float32')(X)\n",
        "    \n",
        "    # Create Model instance which converts sentence_indices into X.\n",
        "    model = Model(inputs=sentence_indices, outputs=X)\n",
        "    \n",
        "    ### END CODE HERE ###\n",
        "    \n",
        "    return model"
      ],
      "execution_count": 0,
      "outputs": []
    },
    {
      "cell_type": "code",
      "metadata": {
        "id": "VBc8k5uHeBac",
        "colab_type": "code",
        "colab": {}
      },
      "source": [
        "checkpointer = ModelCheckpoint(filepath='Data/ServeNet-' + SavePrefix + '.hdf5', monitor='val_top_k_categorical_accuracy', verbose=1, save_best_only=True)"
      ],
      "execution_count": 0,
      "outputs": []
    },
    {
      "cell_type": "code",
      "metadata": {
        "id": "r34u4N4yeFs6",
        "colab_type": "code",
        "colab": {}
      },
      "source": [
        "adam = tf.keras.optimizers.Adam(lr=0.001, beta_1=0.9, beta_2=0.999, epsilon=1e-08, decay=0)"
      ],
      "execution_count": 0,
      "outputs": []
    },
    {
      "cell_type": "code",
      "metadata": {
        "id": "DadYRPL0RjLe",
        "colab_type": "code",
        "outputId": "cdc3e1b6-06d6-47d0-c059-2b97b474197d",
        "colab": {
          "base_uri": "https://localhost:8080/",
          "height": 309
        }
      },
      "source": [
        "maxLen = 110\n",
        "with strategy.scope():\n",
        "    model = ServeNet((maxLen, ))\n",
        "    # model = lstm_model(seq_len=maxLen, stateful=False)\n",
        "    model.compile(loss='categorical_crossentropy', optimizer=adam, metrics=[metrics.top_k_categorical_accuracy, metrics.categorical_accuracy])\n",
        "\n",
        "    vocab_len = len(word_to_index) + 1                  # adding 1 to fit Keras embedding (requirement)\n",
        "    emb_dim = word_to_vec_map[\"cucumber\"].shape[0]      # define dimensionality of your GloVe word vectors (= 50)\n",
        "    \n",
        "    ### START CODE HERE ###\n",
        "    # Initialize the embedding matrix as a numpy array of zeros of shape (vocab_len, dimensions of word vectors = emb_dim)\n",
        "    emb_matrix = np.zeros((vocab_len, emb_dim))\n",
        "    \n",
        "    # Set each row \"index\" of the embedding matrix to be the word vector representation of the \"index\"th word of the vocabulary\n",
        "    for word, index in word_to_index.items():\n",
        "        embedding_vector = word_to_vec_map.get(word)\n",
        "        if embedding_vector is not None:\n",
        "            emb_matrix[index, :] = embedding_vector\n",
        "\n",
        "    model.layers[1].set_weights([emb_matrix])"
      ],
      "execution_count": 0,
      "outputs": [
        {
          "output_type": "stream",
          "text": [
            "WARNING:tensorflow:From /usr/local/lib/python3.6/dist-packages/tensorflow_core/python/keras/initializers.py:119: calling RandomUniform.__init__ (from tensorflow.python.ops.init_ops) with dtype is deprecated and will be removed in a future version.\n",
            "Instructions for updating:\n",
            "Call initializer instance with the dtype argument instead of passing it to the constructor\n",
            "WARNING:tensorflow:From /usr/local/lib/python3.6/dist-packages/tensorflow_core/python/ops/resource_variable_ops.py:1630: calling BaseResourceVariable.__init__ (from tensorflow.python.ops.resource_variable_ops) with constraint is deprecated and will be removed in a future version.\n",
            "Instructions for updating:\n",
            "If using Keras pass *_constraint arguments to layers.\n",
            "Tensor(\"reshape_1/Reshape:0\", shape=(?, 110, 200), dtype=float32)\n",
            "WARNING:tensorflow:From /usr/local/lib/python3.6/dist-packages/tensorflow_core/python/ops/init_ops.py:97: calling GlorotUniform.__init__ (from tensorflow.python.ops.init_ops) with dtype is deprecated and will be removed in a future version.\n",
            "Instructions for updating:\n",
            "Call initializer instance with the dtype argument instead of passing it to the constructor\n",
            "WARNING:tensorflow:From /usr/local/lib/python3.6/dist-packages/tensorflow_core/python/ops/init_ops.py:97: calling Orthogonal.__init__ (from tensorflow.python.ops.init_ops) with dtype is deprecated and will be removed in a future version.\n",
            "Instructions for updating:\n",
            "Call initializer instance with the dtype argument instead of passing it to the constructor\n",
            "WARNING:tensorflow:From /usr/local/lib/python3.6/dist-packages/tensorflow_core/python/ops/init_ops.py:97: calling Zeros.__init__ (from tensorflow.python.ops.init_ops) with dtype is deprecated and will be removed in a future version.\n",
            "Instructions for updating:\n",
            "Call initializer instance with the dtype argument instead of passing it to the constructor\n"
          ],
          "name": "stdout"
        }
      ]
    },
    {
      "cell_type": "code",
      "metadata": {
        "id": "yKb9S5_jelld",
        "colab_type": "code",
        "outputId": "2bf16c5a-c16c-4197-90dc-a898ea2a903f",
        "colab": {
          "base_uri": "https://localhost:8080/",
          "height": 527
        }
      },
      "source": [
        "model.summary()"
      ],
      "execution_count": 0,
      "outputs": [
        {
          "output_type": "stream",
          "text": [
            "Model: \"model\"\n",
            "_________________________________________________________________\n",
            "Layer (type)                 Output Shape              Param #   \n",
            "=================================================================\n",
            "input_1 (InputLayer)         [(None, 110)]             0         \n",
            "_________________________________________________________________\n",
            "embedding (Embedding)        (None, 110, 200)          80000200  \n",
            "_________________________________________________________________\n",
            "reshape (Reshape)            (None, 110, 200, 1)       0         \n",
            "_________________________________________________________________\n",
            "conv2d (Conv2D)              (None, 110, 200, 64)      640       \n",
            "_________________________________________________________________\n",
            "conv2d_1 (Conv2D)            (None, 110, 200, 1)       65        \n",
            "_________________________________________________________________\n",
            "reshape_1 (Reshape)          (None, 110, 200)          0         \n",
            "_________________________________________________________________\n",
            "bidirectional (Bidirectional (None, 1024)              2920448   \n",
            "_________________________________________________________________\n",
            "dropout (Dropout)            (None, 1024)              0         \n",
            "_________________________________________________________________\n",
            "dense (Dense)                (None, 200)               205000    \n",
            "_________________________________________________________________\n",
            "dropout_1 (Dropout)          (None, 200)               0         \n",
            "_________________________________________________________________\n",
            "dense_1 (Dense)              (None, 50)                10050     \n",
            "=================================================================\n",
            "Total params: 83,136,403\n",
            "Trainable params: 83,136,403\n",
            "Non-trainable params: 0\n",
            "_________________________________________________________________\n"
          ],
          "name": "stdout"
        }
      ]
    },
    {
      "cell_type": "code",
      "metadata": {
        "id": "J-jASOgap5Gj",
        "colab_type": "code",
        "outputId": "2a676dba-d16f-4677-d94b-53046eeee572",
        "colab": {
          "base_uri": "https://localhost:8080/",
          "height": 1000
        }
      },
      "source": [
        "history = model.fit(X_train, Y_train, validation_data=(X_test, Y_test), epochs=10, steps_per_epoch=step, verbose = 1, callbacks=[checkpointer])"
      ],
      "execution_count": 0,
      "outputs": [
        {
          "output_type": "stream",
          "text": [
            "WARNING:tensorflow:From /usr/local/lib/python3.6/dist-packages/tensorflow_core/python/ops/math_grad.py:1424: where (from tensorflow.python.ops.array_ops) is deprecated and will be removed in a future version.\n",
            "Instructions for updating:\n",
            "Use tf.where in 2.0, which has the same broadcast rule as np.where\n",
            "Epoch 1/10\n",
            "62/63 [============================>.] - ETA: 0s - loss: 3.3032 - top_k_categorical_accuracy: 0.4283 - categorical_accuracy: 0.1656INFO:tensorflow:Running validation at fit epoch: 0\n",
            "16/16 [==============================] - 11s 677ms/step\n",
            "16/16 [==============================] - 11s 677ms/step\n",
            "\n",
            "Epoch 00001: val_top_k_categorical_accuracy improved from -inf to 0.66211, saving model to Data/ServeNet-TF-Keras-TPU-GoolgeDrive.hdf5\n",
            "63/63 [==============================] - 40s 642ms/step - loss: 3.2926 - top_k_categorical_accuracy: 0.4315 - categorical_accuracy: 0.1687 - val_loss: 2.4982 - val_top_k_categorical_accuracy: 0.6621 - val_categorical_accuracy: 0.3403\n",
            "Epoch 2/10\n",
            "62/63 [============================>.] - ETA: 0s - loss: 2.1689 - top_k_categorical_accuracy: 0.7358 - categorical_accuracy: 0.4240INFO:tensorflow:Running validation at fit epoch: 1\n",
            "16/16 [==============================] - 16s 1s/step\n",
            "16/16 [==============================] - 16s 1s/step\n",
            "\n",
            "Epoch 00002: val_top_k_categorical_accuracy improved from 0.66211 to 0.80127, saving model to Data/ServeNet-TF-Keras-TPU-GoolgeDrive.hdf5\n",
            "62/63 [============================>.] - ETA: 0s - loss: 1.5949 - top_k_categorical_accuracy: 0.8453 - categorical_accuracy: 0.5687INFO:tensorflow:Running validation at fit epoch: 2\n",
            "16/16 [==============================] - 21s 1s/step\n",
            "16/16 [==============================] - 21s 1s/step\n",
            "\n",
            "Epoch 00003: val_top_k_categorical_accuracy improved from 0.80127 to 0.85498, saving model to Data/ServeNet-TF-Keras-TPU-GoolgeDrive.hdf5\n",
            "63/63 [==============================] - 43s 676ms/step - loss: 1.5914 - top_k_categorical_accuracy: 0.8459 - categorical_accuracy: 0.5697 - val_loss: 1.6054 - val_top_k_categorical_accuracy: 0.8550 - val_categorical_accuracy: 0.5688\n",
            "Epoch 4/10\n",
            "62/63 [============================>.] - ETA: 0s - loss: 1.2052 - top_k_categorical_accuracy: 0.9075 - categorical_accuracy: 0.6689INFO:tensorflow:Running validation at fit epoch: 3\n",
            "13/16 [=======================>......] - ETA: 6s \n",
            "Epoch 00004: val_top_k_categorical_accuracy improved from 0.85498 to 0.86816, saving model to Data/ServeNet-TF-Keras-TPU-GoolgeDrive.hdf5\n",
            "63/63 [==============================] - 51s 810ms/step - loss: 1.2019 - top_k_categorical_accuracy: 0.9077 - categorical_accuracy: 0.6699 - val_loss: 1.4752 - val_top_k_categorical_accuracy: 0.8682 - val_categorical_accuracy: 0.6011\n",
            "Epoch 5/10\n",
            "62/63 [============================>.] - ETA: 0s - loss: 0.9466 - top_k_categorical_accuracy: 0.9381 - categorical_accuracy: 0.7369INFO:tensorflow:Running validation at fit epoch: 4\n",
            "16/16 [==============================] - 33s 2s/step\n",
            "16/16 [==============================] - 33s 2s/step\n",
            "\n",
            "Epoch 00005: val_top_k_categorical_accuracy improved from 0.86816 to 0.87695, saving model to Data/ServeNet-TF-Keras-TPU-GoolgeDrive.hdf5\n",
            "63/63 [==============================] - 60s 953ms/step - loss: 0.9474 - top_k_categorical_accuracy: 0.9379 - categorical_accuracy: 0.7369 - val_loss: 1.4894 - val_top_k_categorical_accuracy: 0.8770 - val_categorical_accuracy: 0.6226\n",
            "Epoch 6/10\n",
            "62/63 [============================>.] - ETA: 0s - loss: 0.7095 - top_k_categorical_accuracy: 0.9611 - categorical_accuracy: 0.7998INFO:tensorflow:Running validation at fit epoch: 5\n",
            "16/16 [==============================] - 39s 2s/step\n",
            "16/16 [==============================] - 39s 2s/step\n",
            "\n",
            "Epoch 00006: val_top_k_categorical_accuracy improved from 0.87695 to 0.88477, saving model to Data/ServeNet-TF-Keras-TPU-GoolgeDrive.hdf5\n",
            "63/63 [==============================] - 69s 1s/step - loss: 0.7101 - top_k_categorical_accuracy: 0.9611 - categorical_accuracy: 0.7995 - val_loss: 1.4667 - val_top_k_categorical_accuracy: 0.8848 - val_categorical_accuracy: 0.6323\n",
            "Epoch 7/10\n",
            "62/63 [============================>.] - ETA: 0s - loss: 0.5210 - top_k_categorical_accuracy: 0.9822 - categorical_accuracy: 0.8470INFO:tensorflow:Running validation at fit epoch: 6\n",
            "16/16 [==============================] - 44s 3s/step\n",
            "16/16 [==============================] - 44s 3s/step\n",
            "\n",
            "Epoch 00007: val_top_k_categorical_accuracy did not improve from 0.88477\n",
            "63/63 [==============================] - 69s 1s/step - loss: 0.5171 - top_k_categorical_accuracy: 0.9825 - categorical_accuracy: 0.8485 - val_loss: 1.5130 - val_top_k_categorical_accuracy: 0.8784 - val_categorical_accuracy: 0.6396\n",
            "Epoch 8/10\n",
            "62/63 [============================>.] - ETA: 0s - loss: 0.3424 - top_k_categorical_accuracy: 0.9917 - categorical_accuracy: 0.9062INFO:tensorflow:Running validation at fit epoch: 7\n",
            "16/16 [==============================] - 50s 3s/step\n",
            "16/16 [==============================] - 50s 3s/step\n",
            "\n",
            "Epoch 00008: val_top_k_categorical_accuracy did not improve from 0.88477\n",
            "63/63 [==============================] - 78s 1s/step - loss: 0.3425 - top_k_categorical_accuracy: 0.9918 - categorical_accuracy: 0.9063 - val_loss: 1.6134 - val_top_k_categorical_accuracy: 0.8779 - val_categorical_accuracy: 0.6416\n",
            "Epoch 9/10\n",
            "62/63 [============================>.] - ETA: 0s - loss: 0.2212 - top_k_categorical_accuracy: 0.9977 - categorical_accuracy: 0.9381INFO:tensorflow:Running validation at fit epoch: 8\n",
            "16/16 [==============================] - 58s 4s/step\n",
            "16/16 [==============================] - 58s 4s/step\n",
            "\n",
            "Epoch 00009: val_top_k_categorical_accuracy did not improve from 0.88477\n",
            "63/63 [==============================] - 89s 1s/step - loss: 0.2205 - top_k_categorical_accuracy: 0.9978 - categorical_accuracy: 0.9385 - val_loss: 1.6959 - val_top_k_categorical_accuracy: 0.8804 - val_categorical_accuracy: 0.6323\n",
            "Epoch 10/10\n",
            "62/63 [============================>.] - ETA: 0s - loss: 0.1444 - top_k_categorical_accuracy: 0.9997 - categorical_accuracy: 0.9614INFO:tensorflow:Running validation at fit epoch: 9\n",
            "16/16 [==============================] - 65s 4s/step\n",
            "16/16 [==============================] - 65s 4s/step\n",
            "\n",
            "Epoch 00010: val_top_k_categorical_accuracy did not improve from 0.88477\n",
            "63/63 [==============================] - 99s 2s/step - loss: 0.1438 - top_k_categorical_accuracy: 0.9998 - categorical_accuracy: 0.9616 - val_loss: 1.7232 - val_top_k_categorical_accuracy: 0.8735 - val_categorical_accuracy: 0.6494\n"
          ],
          "name": "stdout"
        }
      ]
    },
    {
      "cell_type": "markdown",
      "metadata": {
        "id": "y0pk7gVZirJR",
        "colab_type": "text"
      },
      "source": [
        ""
      ]
    },
    {
      "cell_type": "code",
      "metadata": {
        "id": "1_p6FJuUeReO",
        "colab_type": "code",
        "outputId": "dc27231a-edcc-4de3-a2f0-0a0f0ee08e3f",
        "colab": {
          "base_uri": "https://localhost:8080/",
          "height": 421
        }
      },
      "source": [
        "plt.figure(figsize=(8, 4), dpi=100)\n",
        "plt.title(\"Top 1 Accuracy: Tranning Set vs Test Set\")\n",
        "plt.xlabel(\"Epoch\")\n",
        "plt.ylabel(\"Top 1 Accuracy\")\n",
        "plt.plot(history.history['val_categorical_accuracy'], label=\"Test Set\")\n",
        "plt.plot(history.history['categorical_accuracy'], label=\"Trainning Set\")\n",
        "plt.legend()\n",
        "plt.show()\n",
        "plt.savefig(SavePrefix + 'ServeNetTop1.pdf', format='pdf', dpi=300)"
      ],
      "execution_count": 0,
      "outputs": [
        {
          "output_type": "display_data",
          "data": {
            "image/png": "[encoded data removed]",
            "text/plain": [
              "<Figure size 800x400 with 1 Axes>"
            ]
          },
          "metadata": {
            "tags": []
          }
        },
        {
          "output_type": "display_data",
          "data": {
            "text/plain": [
              "<Figure size 432x288 with 0 Axes>"
            ]
          },
          "metadata": {
            "tags": []
          }
        }
      ]
    },
    {
      "cell_type": "code",
      "metadata": {
        "id": "IMyu7s1QesfG",
        "colab_type": "code",
        "outputId": "41ac4e62-dc71-4094-bf98-e5a794b99427",
        "colab": {
          "base_uri": "https://localhost:8080/",
          "height": 421
        }
      },
      "source": [
        "# plot metrics\n",
        "plt.figure(figsize=(8, 4), dpi=100)\n",
        "plt.title(\"Top 5 Accuracy: Tranning Set vs Test Set\")\n",
        "plt.xlabel(\"Epoch\")\n",
        "plt.ylabel(\"Top 5 Accuracy\")\n",
        "plt.plot(history.history['top_k_categorical_accuracy'], label=\"Trainning Set\")\n",
        "plt.plot(history.history['val_top_k_categorical_accuracy'], label=\"Test Set\")\n",
        "plt.legend()\n",
        "plt.show()\n",
        "plt.savefig(SavePrefix + '-ServeNetTop5.pdf', format='pdf', dpi=300)"
      ],
      "execution_count": 0,
      "outputs": [
        {
          "output_type": "display_data",
          "data": {
            "image/png": "[encoded data removed]",
            "text/plain": [
              "<Figure size 800x400 with 1 Axes>"
            ]
          },
          "metadata": {
            "tags": []
          }
        },
        {
          "output_type": "display_data",
          "data": {
            "text/plain": [
              "<Figure size 432x288 with 0 Axes>"
            ]
          },
          "metadata": {
            "tags": []
          }
        }
      ]
    },
    {
      "cell_type": "code",
      "metadata": {
        "id": "tXtiAwAkevBJ",
        "colab_type": "code",
        "outputId": "f433de52-b666-4c05-b6f1-33bed1c7d93a",
        "colab": {
          "base_uri": "https://localhost:8080/",
          "height": 421
        }
      },
      "source": [
        "plt.figure(figsize=(8, 4), dpi=100)\n",
        "plt.title(\"Tranning Loss vs Test Loss\")\n",
        "plt.xlabel(\"Epoch\")\n",
        "plt.ylabel(\"Loss\")\n",
        "plt.plot(history.history['val_loss'], label=\"Test Set\")\n",
        "plt.plot(history.history['loss'], label=\"Trainning Set\")\n",
        "plt.legend()\n",
        "plt.show()\n",
        "plt.savefig(SavePrefix + '-ServeNetLoss.pdf', format='pdf', dpi=300)"
      ],
      "execution_count": 0,
      "outputs": [
        {
          "output_type": "display_data",
          "data": {
            "image/png": "[encoded data removed]",
            "text/plain": [
              "<Figure size 800x400 with 1 Axes>"
            ]
          },
          "metadata": {
            "tags": []
          }
        },
        {
          "output_type": "display_data",
          "data": {
            "text/plain": [
              "<Figure size 432x288 with 0 Axes>"
            ]
          },
          "metadata": {
            "tags": []
          }
        }
      ]
    },
    {
      "cell_type": "code",
      "metadata": {
        "id": "GUHEz52GexTV",
        "colab_type": "code",
        "colab": {}
      },
      "source": [
        "import pickle\n",
        "  \n",
        "f = open(SavePrefix + '-ServeNetHistory', 'wb')\n",
        "pickle.dump(history.history, f)\n",
        "f.close()"
      ],
      "execution_count": 0,
      "outputs": []
    },
    {
      "cell_type": "code",
      "metadata": {
        "id": "VU1U6gjxe1-M",
        "colab_type": "code",
        "colab": {}
      },
      "source": [
        "import pickle\n",
        "\n",
        "f = open(SavePrefix + '-ServeNetHistory', 'rb')\n",
        "his = pickle.load(f)\n",
        "f.close()"
      ],
      "execution_count": 0,
      "outputs": []
    },
    {
      "cell_type": "code",
      "metadata": {
        "id": "qdA7A2nffWNQ",
        "colab_type": "code",
        "outputId": "8719608c-fcf6-4b49-ce9d-6fb1cfb25195",
        "colab": {
          "base_uri": "https://localhost:8080/",
          "height": 119
        }
      },
      "source": [
        "val_top_k = his['val_top_k_categorical_accuracy']\n",
        "print(\"top5: \", max(val_top_k))\n",
        "print(np.argmax(val_top_k))\n",
        "val_loss = his['val_loss']\n",
        "print(\"loss: \", min(val_loss))\n",
        "print(np.argmin(val_loss))\n",
        "val_ca = his['val_categorical_accuracy']\n",
        "print(\"top1: \", max(val_ca))\n",
        "print(np.argmax(val_ca))"
      ],
      "execution_count": 0,
      "outputs": [
        {
          "output_type": "stream",
          "text": [
            "top5:  0.8847656\n",
            "5\n",
            "loss:  1.4667315036058426\n",
            "5\n",
            "top1:  0.64941406\n",
            "9\n"
          ],
          "name": "stdout"
        }
      ]
    },
    {
      "cell_type": "code",
      "metadata": {
        "id": "PjTB_tNjfWpQ",
        "colab_type": "code",
        "colab": {}
      },
      "source": [
        "model = load_model('Data/ServeNet-' + SavePrefix + '.hdf5')"
      ],
      "execution_count": 0,
      "outputs": []
    },
    {
      "cell_type": "code",
      "metadata": {
        "id": "nlHf2EgYfY3G",
        "colab_type": "code",
        "outputId": "3ed622ad-76ca-4608-c253-bc9e27938542",
        "colab": {
          "base_uri": "https://localhost:8080/",
          "height": 173
        }
      },
      "source": [
        "print(\"Training set:\")\n",
        "loss_train, top5error_train, top1error_train = model.evaluate(X_train, Y_train)\n",
        "print(\"Top5 Training accuracy = \", top5error_train)\n",
        "print(\"Top1 Training accuracy = \", top1error_train)\n",
        "print('Test set:')\n",
        "loss_test, top5error_test, top1error_test = model.evaluate(X_test, Y_test)\n",
        "print(\"Training accuracy = \", top5error_test)\n",
        "print(\"Top1 Training accuracy = \", top1error_test)"
      ],
      "execution_count": 0,
      "outputs": [
        {
          "output_type": "stream",
          "text": [
            "Training set:\n",
            "8064/8064 [==============================] - 33s 4ms/sample - loss: 0.3692 - top_k_categorical_accuracy: 0.9903 - categorical_accuracy: 0.8953\n",
            "Top5 Training accuracy =  0.99032736\n",
            "Top1 Training accuracy =  0.8953373\n",
            "Test set:\n",
            "2048/2048 [==============================] - 7s 3ms/sample - loss: 1.4666 - top_k_categorical_accuracy: 0.8848 - categorical_accuracy: 0.6323\n",
            "Training accuracy =  0.8847656\n",
            "Top1 Training accuracy =  0.6323242\n"
          ],
          "name": "stdout"
        }
      ]
    }
  ]
}